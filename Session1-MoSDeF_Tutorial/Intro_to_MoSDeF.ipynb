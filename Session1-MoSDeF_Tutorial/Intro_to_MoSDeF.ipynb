{
 "cells": [
  {
   "cell_type": "markdown",
   "metadata": {
    "collapsed": true
   },
   "source": [
    "# mBuild Tutorial 00: Getting Started\n",
    "\n",
    "This tutorial is designed to introduce you to the primary mission of mBuild - to facilitate the creation of complex molecular systems in a flexible fashion that allows system chemistry to be easily modulated. You will learn about the hierarchical data structure of mBuild `Compounds` and will have the ability to play around with some pre-built mBuild classes to observe how system structure can be changed by providing a few simple top-level variables."
   ]
  },
  {
   "cell_type": "markdown",
   "metadata": {
    "collapsed": true
   },
   "source": [
    "### Hierarchical design approach\n",
    "\n",
    "mBuild uses a [composite design pattern](https://en.wikipedia.org/wiki/Composite_pattern) to approach the creation of complex molecular systems. This yields the following features:\n",
    "* Molecules feature a tree-like hierarchy (as shown in the figure below)\n",
    "* All components in the hierarchy feature a common data structure (an mBuild `Compound`)\n",
    "* The lowest level of the hierarchy (the 'leaves') are referred to as `Particles` and are typically individual atoms\n",
    "* Atomic positions are maintained only at the `Particle` level; higher level components can compute properties based on contained `Particles`\n",
    "\n",
    "Below is an example of an mBuild molecule hierarchy for an alkylsilane monolayer attached to a crystalline silica surface.\n",
    "<img src=\"hierarchical_design_image.png\" alt=\"Drawing\" style=\"width: 700px;\"/>"
   ]
  },
  {
   "cell_type": "markdown",
   "metadata": {},
   "source": [
    "### Primer on using Jupyter notebooks\n",
    "\n",
    "[Jupyter notebooks](https://jupyter-notebook.readthedocs.io/en/stable/) provide an interactive environment for \"developing, documenting, and executing code\". Several languages are supported; however here we will be using Python. \n",
    "\n",
    "Jupyter notebooks feature two primary types of cells:\n",
    "1. Markdown cells, like this cell, which contain explanatory text\n",
    "2. Code cells, that can be executed by either clicking on the \"run cell\" icon or by hitting SHIFT + ENTER.\n",
    "\n",
    "Cells do not have to be executed in order (however the cells in this tutorial are designed to be executed sequentially), and the order in which cells have been executed is recorded by the bracketed number to the left of the code cell (e.g. [ 1 ]). When a cell is executed you will first see an asterisk (i.e. [ * ]) which means that the cell is still running. When the asterisk is replaced by a number this means the execution has completed."
   ]
  },
  {
   "cell_type": "markdown",
   "metadata": {},
   "source": [
    "### Importing mBuild\n",
    "\n",
    "To begin using mBuild we need to import the mBuild package, which is available through both the [Anaconda](https://anaconda.org/mosdef/mbuild) and [pip](https://pypi.python.org/pypi/mbuild/0.7.2) package managers. mBuild can also be downloaded from source, which is hosted on [Github](https://github.com/mosdef-hub/mbuild)."
   ]
  },
  {
   "cell_type": "code",
   "execution_count": 1,
   "metadata": {},
   "outputs": [],
   "source": [
    "import mbuild as mb"
   ]
  },
  {
   "cell_type": "markdown",
   "metadata": {},
   "source": [
    "## Examples\n",
    "\n",
    "Here, we'll explore some examples of mBuild `Compound` classes that have been pre-defined. Each features several top-level variables that can be manipulated to tune the system of interest."
   ]
  },
  {
   "cell_type": "markdown",
   "metadata": {},
   "source": [
    "### Alkanes\n",
    "\n",
    "The `Alkane` example class allows one to create an alkane chain with a chain length (in number of carbons) specified by the `n` argument.\n",
    "\n",
    "First, we will import the `Alkane` class and use Python's built-in `help` function to inspect the class constructor, which will reveal the arguments we are able to provide upon instantiation to customize our `Compound`."
   ]
  },
  {
   "cell_type": "code",
   "execution_count": 2,
   "metadata": {},
   "outputs": [
    {
     "name": "stdout",
     "output_type": "stream",
     "text": [
      "Help on function __init__ in module mbuild.examples.alkane.alkane:\n",
      "\n",
      "__init__(self, n=3, cap_front=True, cap_end=True)\n",
      "    Initialize an Alkane Compound.\n",
      "    \n",
      "    Args:\n",
      "        n: Number of carbon atoms.\n",
      "        cap_front: Add methyl group to beginning of chain ('down' port).\n",
      "        cap_end: Add methyl group to end of chain ('up' port).\n",
      "\n"
     ]
    }
   ],
   "source": [
    "from mbuild.examples import Alkane\n",
    "\n",
    "help(Alkane.__init__)"
   ]
  },
  {
   "cell_type": "markdown",
   "metadata": {},
   "source": [
    "We see that there are three arguments we can provide when creating an `Alkane`, specifying the chain length and also whether or not we want to cap either end of the chain with a methyl group. Note that each of these arguments possesses a default value, and instantiating an `Alkane` without additional arguments will yield a propane chain.\n",
    "\n",
    "However, here we'll pass `n=4` to our `Alkane` creation to yield an alkane with four carbons, i.e. butane.\n",
    "\n",
    "The `visualize` method can be used to visualize our molecule interactively within the notebook."
   ]
  },
  {
   "cell_type": "code",
   "execution_count": 3,
   "metadata": {},
   "outputs": [
    {
     "data": {
      "application/vnd.jupyter.widget-view+json": {
       "model_id": "a68ef7ac37bc43eab6a8e08b15272a25",
       "version_major": 2,
       "version_minor": 0
      },
      "text/html": [
       "<p>Failed to display Jupyter Widget of type <code>NGLWidget</code>.</p>\n",
       "<p>\n",
       "  If you're reading this message in the Jupyter Notebook or JupyterLab Notebook, it may mean\n",
       "  that the widgets JavaScript is still loading. If this message persists, it\n",
       "  likely means that the widgets JavaScript library is either not installed or\n",
       "  not enabled. See the <a href=\"https://ipywidgets.readthedocs.io/en/stable/user_install.html\">Jupyter\n",
       "  Widgets Documentation</a> for setup instructions.\n",
       "</p>\n",
       "<p>\n",
       "  If you're reading this message in another frontend (for example, a static\n",
       "  rendering on GitHub or <a href=\"https://nbviewer.jupyter.org/\">NBViewer</a>),\n",
       "  it may mean that your frontend doesn't currently support widgets.\n",
       "</p>\n"
      ],
      "text/plain": [
       "NGLWidget()"
      ]
     },
     "metadata": {},
     "output_type": "display_data"
    }
   ],
   "source": [
    "butane = Alkane(n=4)\n",
    "butane.visualize()"
   ]
  },
  {
   "cell_type": "markdown",
   "metadata": {},
   "source": [
    "We are not restricted to just creating butane by using the `Alkane` class, however. By having the chain length as a tunable argument, we can easily create chains of any length. Here we'll simply change `n=4` to `n=10` to yield a decane molecule."
   ]
  },
  {
   "cell_type": "code",
   "execution_count": 4,
   "metadata": {},
   "outputs": [
    {
     "data": {
      "application/vnd.jupyter.widget-view+json": {
       "model_id": "60703f9ecb694c15ad327b58c0c8dab6",
       "version_major": 2,
       "version_minor": 0
      },
      "text/html": [
       "<p>Failed to display Jupyter Widget of type <code>NGLWidget</code>.</p>\n",
       "<p>\n",
       "  If you're reading this message in the Jupyter Notebook or JupyterLab Notebook, it may mean\n",
       "  that the widgets JavaScript is still loading. If this message persists, it\n",
       "  likely means that the widgets JavaScript library is either not installed or\n",
       "  not enabled. See the <a href=\"https://ipywidgets.readthedocs.io/en/stable/user_install.html\">Jupyter\n",
       "  Widgets Documentation</a> for setup instructions.\n",
       "</p>\n",
       "<p>\n",
       "  If you're reading this message in another frontend (for example, a static\n",
       "  rendering on GitHub or <a href=\"https://nbviewer.jupyter.org/\">NBViewer</a>),\n",
       "  it may mean that your frontend doesn't currently support widgets.\n",
       "</p>\n"
      ],
      "text/plain": [
       "NGLWidget()"
      ]
     },
     "metadata": {},
     "output_type": "display_data"
    }
   ],
   "source": [
    "decane = Alkane(n=10)\n",
    "decane.visualize()"
   ]
  },
  {
   "cell_type": "markdown",
   "metadata": {},
   "source": [
    "By providing arguments when instantiating a `Compound` that allow us to tune the underlying chemistry, it becomes easy to create systems that span wide structural parameter spaces through altering a few top-level variables. This allows mBuild to become a valuable tool for screening-type studies.\n",
    "\n",
    "We'll demonstrate this behavior once more by passing the `cap_end=False` argument to the instatiation of our decane chain. This will leave a `Port` on one end of the chain. You will learn more about `Port`s in a later tutorial, but briefly, these are what allow us to connect `Compound`s together. By leaving an open `Port` on the end of the alkane chain, we could now, e.g. make copies of the chain and functionalize a surface with them (as you will see in the following examples)."
   ]
  },
  {
   "cell_type": "code",
   "execution_count": 5,
   "metadata": {},
   "outputs": [
    {
     "data": {
      "application/vnd.jupyter.widget-view+json": {
       "model_id": "ecd7995887e64f389bbd51d87a5a51b1",
       "version_major": 2,
       "version_minor": 0
      },
      "text/html": [
       "<p>Failed to display Jupyter Widget of type <code>NGLWidget</code>.</p>\n",
       "<p>\n",
       "  If you're reading this message in the Jupyter Notebook or JupyterLab Notebook, it may mean\n",
       "  that the widgets JavaScript is still loading. If this message persists, it\n",
       "  likely means that the widgets JavaScript library is either not installed or\n",
       "  not enabled. See the <a href=\"https://ipywidgets.readthedocs.io/en/stable/user_install.html\">Jupyter\n",
       "  Widgets Documentation</a> for setup instructions.\n",
       "</p>\n",
       "<p>\n",
       "  If you're reading this message in another frontend (for example, a static\n",
       "  rendering on GitHub or <a href=\"https://nbviewer.jupyter.org/\">NBViewer</a>),\n",
       "  it may mean that your frontend doesn't currently support widgets.\n",
       "</p>\n"
      ],
      "text/plain": [
       "NGLWidget()"
      ]
     },
     "metadata": {},
     "output_type": "display_data"
    }
   ],
   "source": [
    "decane = Alkane(n=10, cap_end=False)\n",
    "decane.visualize(show_ports=True)"
   ]
  },
  {
   "cell_type": "markdown",
   "metadata": {},
   "source": [
    "### Alkylsilane monolayers\n",
    "\n",
    "The `AlkaneMonolayer` class constructs an alkylsilane monolayer on crystalline silica.  The `pattern` argument can be used to tune where chains are placed on the surface. The `tile_x` and `tile_y` arguments can be used to replicate the surface in the $x$ and $y$ dimensions. And the `chain_length` argument can be used to tune the length of the alkylsilane chains.\n",
    "\n",
    "First, we'll import the class and take a look at its constructor."
   ]
  },
  {
   "cell_type": "code",
   "execution_count": 6,
   "metadata": {},
   "outputs": [
    {
     "name": "stdout",
     "output_type": "stream",
     "text": [
      "Help on function __init__ in module mbuild.examples.alkane_monolayer.alkane_monolayer:\n",
      "\n",
      "__init__(self, pattern, tile_x=1, tile_y=1, chain_length=10)\n",
      "    Create an alkylsilane monolayer on beta-cristobalite.\n",
      "    \n",
      "    Parameters\n",
      "    ----------\n",
      "    pattern : np.ndarray, shape=(n, 3), optional, default=None\n",
      "        An array of planar binding locations. If not provided, the entire\n",
      "        surface will be filled with `chain`.\n",
      "    tile_x : int, optional, default=1\n",
      "        Number of times to replicate substrate in x-direction.\n",
      "    tile_y : int, optional, default=1\n",
      "        Number of times to replicate substrate in y-direction.\n",
      "    chain_length : int, optional, default=10\n",
      "        Number of carbon atoms per chain.\n",
      "\n"
     ]
    }
   ],
   "source": [
    "from mbuild.examples import AlkaneMonolayer\n",
    "\n",
    "help(AlkaneMonolayer.__init__)"
   ]
  },
  {
   "cell_type": "markdown",
   "metadata": {},
   "source": [
    "Now, we'll create a couple of different systems by varying the arguments we provide upon instantiation."
   ]
  },
  {
   "cell_type": "code",
   "execution_count": 7,
   "metadata": {},
   "outputs": [
    {
     "name": "stderr",
     "output_type": "stream",
     "text": [
      "/Users/summeraz/anaconda/envs/py3/lib/python3.5/site-packages/pandas/io/parsers.py:2227: FutureWarning: split() requires a non-empty pattern match.\n",
      "  yield pat.split(line.strip())\n",
      "/Users/summeraz/anaconda/envs/py3/lib/python3.5/site-packages/pandas/io/parsers.py:2229: FutureWarning: split() requires a non-empty pattern match.\n",
      "  yield pat.split(line.strip())\n",
      "/Users/summeraz/mbuild/mbuild/recipes/monolayer.py:80: UserWarning: \n",
      " No fractions provided. Assuming a single chain type.\n",
      "  warn(\"\\n No fractions provided. Assuming a single chain type.\")\n",
      "/Users/summeraz/mbuild/mbuild/recipes/monolayer.py:83: UserWarning: \n",
      " Adding 25 of chain <AlkylSilane 66 particles, non-periodic, 65 bonds, id: 4799969880>\n",
      "  warn(\"\\n Adding {} of chain {}\".format(len(pattern), chains[-1]))\n",
      "/Users/summeraz/mbuild/mbuild/compound.py:1810: UserWarning: Guessing that \"<SI pos=( 0.1347, 0.0778, 0.0000), 0 bonds, id: 4799548384>\" is element: \"S\"\n",
      "  warn('Guessing that \"{}\" is element: \"{}\"'.format(atom, element))\n"
     ]
    },
    {
     "data": {
      "application/vnd.jupyter.widget-view+json": {
       "model_id": "32f8195aa4214ca186fe58caac2e7ac9",
       "version_major": 2,
       "version_minor": 0
      },
      "text/html": [
       "<p>Failed to display Jupyter Widget of type <code>NGLWidget</code>.</p>\n",
       "<p>\n",
       "  If you're reading this message in the Jupyter Notebook or JupyterLab Notebook, it may mean\n",
       "  that the widgets JavaScript is still loading. If this message persists, it\n",
       "  likely means that the widgets JavaScript library is either not installed or\n",
       "  not enabled. See the <a href=\"https://ipywidgets.readthedocs.io/en/stable/user_install.html\">Jupyter\n",
       "  Widgets Documentation</a> for setup instructions.\n",
       "</p>\n",
       "<p>\n",
       "  If you're reading this message in another frontend (for example, a static\n",
       "  rendering on GitHub or <a href=\"https://nbviewer.jupyter.org/\">NBViewer</a>),\n",
       "  it may mean that your frontend doesn't currently support widgets.\n",
       "</p>\n"
      ],
      "text/plain": [
       "NGLWidget()"
      ]
     },
     "metadata": {},
     "output_type": "display_data"
    }
   ],
   "source": [
    "monolayer = AlkaneMonolayer(pattern=mb.Grid2DPattern(n=5, m=5), tile_x=1, tile_y=1, chain_length=20)\n",
    "monolayer.visualize()"
   ]
  },
  {
   "cell_type": "code",
   "execution_count": 8,
   "metadata": {},
   "outputs": [
    {
     "name": "stderr",
     "output_type": "stream",
     "text": [
      "/Users/summeraz/anaconda/envs/py3/lib/python3.5/site-packages/pandas/io/parsers.py:2227: FutureWarning: split() requires a non-empty pattern match.\n",
      "  yield pat.split(line.strip())\n",
      "/Users/summeraz/anaconda/envs/py3/lib/python3.5/site-packages/pandas/io/parsers.py:2229: FutureWarning: split() requires a non-empty pattern match.\n",
      "  yield pat.split(line.strip())\n",
      "/Users/summeraz/mbuild/mbuild/recipes/monolayer.py:80: UserWarning: \n",
      " No fractions provided. Assuming a single chain type.\n",
      "  warn(\"\\n No fractions provided. Assuming a single chain type.\")\n",
      "/Users/summeraz/mbuild/mbuild/recipes/monolayer.py:83: UserWarning: \n",
      " Adding 100 of chain <AlkylSilane 21 particles, non-periodic, 20 bonds, id: 4813025968>\n",
      "  warn(\"\\n Adding {} of chain {}\".format(len(pattern), chains[-1]))\n",
      "/Users/summeraz/mbuild/mbuild/compound.py:1810: UserWarning: Guessing that \"<SI pos=( 0.1347, 0.0778, 0.0000), 0 bonds, id: 4813060472>\" is element: \"S\"\n",
      "  warn('Guessing that \"{}\" is element: \"{}\"'.format(atom, element))\n"
     ]
    },
    {
     "data": {
      "application/vnd.jupyter.widget-view+json": {
       "model_id": "6658593295424bf7a7936c762ca5d2be",
       "version_major": 2,
       "version_minor": 0
      },
      "text/html": [
       "<p>Failed to display Jupyter Widget of type <code>NGLWidget</code>.</p>\n",
       "<p>\n",
       "  If you're reading this message in the Jupyter Notebook or JupyterLab Notebook, it may mean\n",
       "  that the widgets JavaScript is still loading. If this message persists, it\n",
       "  likely means that the widgets JavaScript library is either not installed or\n",
       "  not enabled. See the <a href=\"https://ipywidgets.readthedocs.io/en/stable/user_install.html\">Jupyter\n",
       "  Widgets Documentation</a> for setup instructions.\n",
       "</p>\n",
       "<p>\n",
       "  If you're reading this message in another frontend (for example, a static\n",
       "  rendering on GitHub or <a href=\"https://nbviewer.jupyter.org/\">NBViewer</a>),\n",
       "  it may mean that your frontend doesn't currently support widgets.\n",
       "</p>\n"
      ],
      "text/plain": [
       "NGLWidget()"
      ]
     },
     "metadata": {},
     "output_type": "display_data"
    }
   ],
   "source": [
    "monolayer = AlkaneMonolayer(pattern=mb.Random2DPattern(n=100), tile_x=2, tile_y=3, chain_length=5)\n",
    "monolayer.visualize()"
   ]
  },
  {
   "cell_type": "markdown",
   "metadata": {},
   "source": [
    "### Tethered nanospheres\n",
    "\n",
    "The `Tnp` class is a bit more abstract than our previous two classes, and defines a nanoparticle constructed of uniformly spaced beads featuring arbitrary polymer tethers. The `ball_radius` class can be used to tune the size of the nanoparticle. While the `n_chains` and `chain_length` arguments can be used to tune the number and length of the polymer tethers.\n",
    "\n",
    "Again, we'll first import the class and view the constructor."
   ]
  },
  {
   "cell_type": "code",
   "execution_count": 9,
   "metadata": {},
   "outputs": [
    {
     "name": "stdout",
     "output_type": "stream",
     "text": [
      "Help on function __init__ in module mbuild.examples.tnp.tnp:\n",
      "\n",
      "__init__(self, ball_radius=10, n_chains=4, chain_length=10, monomer=None)\n",
      "    Initialize a tethered nanoparticle.\n",
      "    \n",
      "    Args:\n",
      "        ball_radius (float): Radius of the nanoparticle.\n",
      "        n_chains (int): Number of chains to attach to the nanoparticle.\n",
      "        chain_length (int): Length of the chains being attached.\n",
      "        monomer (Compound, optional): Type of chain being attached.\n",
      "\n"
     ]
    }
   ],
   "source": [
    "from mbuild.examples.tnp.tnp import Tnp\n",
    "\n",
    "help(Tnp.__init__)"
   ]
  },
  {
   "cell_type": "markdown",
   "metadata": {},
   "source": [
    "Now we'll create a couple variations."
   ]
  },
  {
   "cell_type": "code",
   "execution_count": 10,
   "metadata": {
    "scrolled": true
   },
   "outputs": [
    {
     "name": "stderr",
     "output_type": "stream",
     "text": [
      "/Users/summeraz/mbuild/mbuild/compound.py:1810: UserWarning: Guessing that \"<NP pos=( 1.2427, 0.0000,-9.9225), 0 bonds, id: 4855431856>\" is element: \"N\"\n",
      "  warn('Guessing that \"{}\" is element: \"{}\"'.format(atom, element))\n",
      "/Users/summeraz/mbuild/mbuild/compound.py:1810: UserWarning: Guessing that \"<T pos=( 6.8164, 1.4986,-9.0140), 0 bonds, id: 4855644056>\" is element: \"EP\"\n",
      "  warn('Guessing that \"{}\" is element: \"{}\"'.format(atom, element))\n"
     ]
    },
    {
     "data": {
      "application/vnd.jupyter.widget-view+json": {
       "model_id": "c202e3c949c3419ebc002b491fc089b4",
       "version_major": 2,
       "version_minor": 0
      },
      "text/html": [
       "<p>Failed to display Jupyter Widget of type <code>NGLWidget</code>.</p>\n",
       "<p>\n",
       "  If you're reading this message in the Jupyter Notebook or JupyterLab Notebook, it may mean\n",
       "  that the widgets JavaScript is still loading. If this message persists, it\n",
       "  likely means that the widgets JavaScript library is either not installed or\n",
       "  not enabled. See the <a href=\"https://ipywidgets.readthedocs.io/en/stable/user_install.html\">Jupyter\n",
       "  Widgets Documentation</a> for setup instructions.\n",
       "</p>\n",
       "<p>\n",
       "  If you're reading this message in another frontend (for example, a static\n",
       "  rendering on GitHub or <a href=\"https://nbviewer.jupyter.org/\">NBViewer</a>),\n",
       "  it may mean that your frontend doesn't currently support widgets.\n",
       "</p>\n"
      ],
      "text/plain": [
       "NGLWidget()"
      ]
     },
     "metadata": {},
     "output_type": "display_data"
    }
   ],
   "source": [
    "tnp = Tnp(ball_radius=10, n_chains=4, chain_length=10)\n",
    "tnp.visualize()"
   ]
  },
  {
   "cell_type": "code",
   "execution_count": null,
   "metadata": {},
   "outputs": [],
   "source": [
    "tnp = Tnp(ball_radius=5, n_chains=20, chain_length=5)\n",
    "tnp.visualize()"
   ]
  },
  {
   "cell_type": "markdown",
   "metadata": {},
   "source": [
    "## Recap\n",
    "\n",
    "The goal of this tutorial was to demonstrate how with mBuild classes the chemistry of complex molecular systems can be easily tuned. In the following lessons, you will learn how to construct these classes so that you can begin using mBuild in your own research!"
   ]
  }
 ],
 "metadata": {
  "kernelspec": {
   "display_name": "Python 3",
   "language": "python",
   "name": "python3"
  },
  "language_info": {
   "codemirror_mode": {
    "name": "ipython",
    "version": 3
   },
   "file_extension": ".py",
   "mimetype": "text/x-python",
   "name": "python",
   "nbconvert_exporter": "python",
   "pygments_lexer": "ipython3",
   "version": "3.5.4"
  }
 },
 "nbformat": 4,
 "nbformat_minor": 2
}
