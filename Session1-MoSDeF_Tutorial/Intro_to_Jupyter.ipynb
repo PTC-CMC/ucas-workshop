{
 "cells": [
  {
   "cell_type": "markdown",
   "metadata": {},
   "source": [
    "# Jupyter Notebooks, an Overview"
   ]
  },
  {
   "cell_type": "markdown",
   "metadata": {},
   "source": [
    "## How to use Jupyter notebooks\n",
    "\n",
    "Jupyter Notebooks have become a valuable tool for many computational researchers due to their usefulness\n",
    "as an interactive means for \"developing, documenting, and executing\" code. Many languages are supported, but\n",
    "this course will use primarily Python for the programming language, and Markdown as the documenting language.\n",
    "\n",
    "This notebook will provide:\n",
    "* A basic introduction to the Jupyter Notebook\n",
    "* Description of the user interface\n",
    "* How to make your own notebook\n",
    "* Cells and kernels\n",
    "* How to execute python code in the notebook\n",
    "* How to add documentation (markdown) to the notebook"
   ]
  },
  {
   "cell_type": "markdown",
   "metadata": {},
   "source": [
    "### Basic Introduction\n",
    "\n",
    "The Jupyter Notebook allows the user to create a digital notebook that can execute code, display documentation through\n",
    "mark-up languages, and display other figures (plots, videos, etc) as well.\n",
    "\n",
    "A Jupyter notebook is a combination of two programs:\n",
    "1. A server, which is invoked when running `$ jupyter notebook` from the command line\n",
    "    - Usually, the server will be running locally on the users computer\n",
    "    - They can be ran over a network as well\n",
    "    \n",
    "2. A web browser client, which is the main interface the user will interact with when using the digital notebooks\n",
    "    - Can be accessed with most web browsers, tested on:\n",
    "        1. Mozilla Firefox\n",
    "        2. Google Chrome\n",
    "        3. Apple Safari"
   ]
  },
  {
   "cell_type": "markdown",
   "metadata": {},
   "source": [
    "### User Interface\n",
    "\n",
    "Once launching the `jupyter notebook` server through a terminal session, you should be taken to a home menu screen.\n",
    "\n",
    "If you launched this within the `ucas-workshop` directory it will look similar to this below.\n",
    "<img src=\"../images/home.png\" alt=\"Drawing\" style=\"width: 700px;\"/>\n",
    "\n",
    "This is not a Jupyter Notebook, this is the home dashboard for this Jupyter session. It will **always** be the\n",
    "current directory from which you ran the `jupyter notebook` command. \n",
    "\n",
    "\n",
    "If we wanted to create a new notebook where we could use Python, we would click on the <kbd>New</kbd> button on the top right, shown below.\n",
    "<img src=\"../images/home-new.png\" alt=\"Drawing\" style=\"width: 700px;\"/>\n",
    "\n",
    "Select the `Python 3` notebook option to create a new Jupyter notebook that supports Python 3.\n",
    "<img src=\"../images/home-new-python.png\" alt=\"Drawing\" style=\"width: 700px;\"/>\n",
    "\n",
    "You should now be taken to a new tab in your web browser, this is a new notebook. Some of the important items of interest are labeled below. This interface is very similar to most modern word processors, to learn more about any of the buttons, simply hover your mouse over the button and a help message will appear.\n",
    "<img src=\"../images/new-python.png\" alt=\"Drawing\" style=\"width: 700px;\"/>\n",
    "1. This is the name of your notebook. Click on the name to edit it.\n",
    "2. This is how you add new cells. Cells are what stores the code and other markup for execution.\n",
    "3. To execute a cell, clicking this button will execute the cell that is selected. Cells can also be executed by pressing <kbd>SHIFT</kbd>+<kbd>RET</kbd>\n",
    "4. Click this button to change the type of cell. The two options that are important are: `Code`, and `Markdown`."
   ]
  },
  {
   "cell_type": "markdown",
   "metadata": {},
   "source": [
    "### Cells and Kernels\n",
    "\n",
    "Cells are the basis of the Jupyter Notebook. All inputs must be placed in cells to be executed or visualized.\n",
    "The type of cell will determine how they are executed.\n",
    "\n",
    "For example, a `Python` Jupyter Notebook with a `Code` cell will expect to contain Python code and will execute all code within said cell as Python code.\n",
    "\n",
    "Kernels, on the other hand, are what control each notebook. Every Jupyter Notebook launched will have its own kernel. This kernel will handle the calls to the server and will be responsible for the execution of the code contained in the cells. You will not have to interact with the kernel at all, this is handled behind the scenes."
   ]
  },
  {
   "cell_type": "markdown",
   "metadata": {},
   "source": [
    "## Hello, World! Example\n",
    "\n",
    "Finally, lets create a simple notebook!\n",
    "\n",
    "We are going to have **two** cells:\n",
    "1. A `Code` cell\n",
    "2. A `Markdown` cell\n",
    "\n",
    "The cells should print out `Hello world!`\n",
    "1. The `Code` cell should use Python 3 `print` syntax\n",
    "2. The `Markdown` cell should be in [markdown syntax](https://markdown-guide.readthedocs.io/en/latest/basics.html)\n",
    "\n",
    "The steps that should be followed are:\n",
    "1. Create a new `Python 3` notebook\n",
    "2. Change the name of the new notebook to: `Hello World`\n",
    "3. Add an additional cell, there should be **two** cells\n",
    "4. Change cell 2 to `Markdown`\n",
    "5. Edit cell 1 to print `Hello world` using Python\n",
    "6. Edit cell 2 to display `Hello world` using markdown\n",
    "7. Execute both cells to display this\n",
    "\n",
    "The final example is shown below:\n",
    "<img src=\"../images/hello-world.png\" alt=\"Drawing\" style=\"width: 700px;\"/>"
   ]
  }
 ],
 "metadata": {
  "kernelspec": {
   "display_name": "Python 3",
   "language": "python",
   "name": "python3"
  },
  "language_info": {
   "codemirror_mode": {
    "name": "ipython",
    "version": 3
   },
   "file_extension": ".py",
   "mimetype": "text/x-python",
   "name": "python",
   "nbconvert_exporter": "python",
   "pygments_lexer": "ipython3",
   "version": "3.5.5"
  }
 },
 "nbformat": 4,
 "nbformat_minor": 2
}
