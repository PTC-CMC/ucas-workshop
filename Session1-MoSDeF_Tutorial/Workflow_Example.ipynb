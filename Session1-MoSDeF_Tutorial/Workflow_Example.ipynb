{
 "cells": [
  {
   "cell_type": "markdown",
   "metadata": {},
   "source": [
    "## Example of mBuild + Foyer + MD Workflow\n",
    "\n",
    "First, we'll import the mBuild package (and set a filter for some annoying warnings)."
   ]
  },
  {
   "cell_type": "code",
   "execution_count": null,
   "metadata": {},
   "outputs": [],
   "source": [
    "import mbuild as mb\n",
    "import warnings\n",
    "warnings.filterwarnings(\"ignore\")"
   ]
  },
  {
   "cell_type": "markdown",
   "metadata": {},
   "source": [
    "We'll define an empty `Compound` to serve as a container for the various components in our system."
   ]
  },
  {
   "cell_type": "code",
   "execution_count": null,
   "metadata": {},
   "outputs": [],
   "source": [
    "system = mb.Compound()"
   ]
  },
  {
   "cell_type": "markdown",
   "metadata": {},
   "source": [
    "mBuild features a `Lattice` class, that can be used to create, well, lattices. Here, we'll use this to create an FCC lattice of gold."
   ]
  },
  {
   "cell_type": "code",
   "execution_count": null,
   "metadata": {},
   "outputs": [],
   "source": [
    "gold = mb.Compound(name='Au')\n",
    "lattice_vectors = [[1, 0, 0], [0, 1, 0], [0, 0, 1]]\n",
    "spacing = [.40782, .40782, .40782]\n",
    "locations = [[0., 0., 0.], [.5, .5, 0.],\n",
    "             [.5, 0., .5], [0., .5, .5]]\n",
    "basis = {'Au': locations}\n",
    "lattice = mb.Lattice(lattice_spacing=spacing,\n",
    "                     lattice_vectors=lattice_vectors,\n",
    "                     lattice_points=basis)\n",
    "surface = lattice.populate(x=6, y=6, z=2,\n",
    "                           compound_dict={'Au': gold})\n",
    "system.add(surface, 'surface')\n",
    "system.visualize()"
   ]
  },
  {
   "cell_type": "markdown",
   "metadata": {},
   "source": [
    "Create a layer of eight water molecules to place on top of the gold surface"
   ]
  },
  {
   "cell_type": "code",
   "execution_count": null,
   "metadata": {},
   "outputs": [],
   "source": [
    "from mbuild.lib.moieties import H2O\n",
    "\n",
    "surface_dimensions = surface.boundingbox\n",
    "solvent_layer = mb.Box(mins=[surface_dimensions.mins[0],\n",
    "                             surface_dimensions.mins[1],\n",
    "                             surface_dimensions.maxs[2] + 0.4],\n",
    "                       maxs=[surface_dimensions.maxs[0],\n",
    "                             surface_dimensions.maxs[1],\n",
    "                             surface_dimensions.maxs[2] + 0.6])\n",
    "water_layer = mb.fill_box(compound=H2O(), n_compounds=8,\n",
    "                          box=solvent_layer, seed=12)\n",
    "system.add(water_layer, 'water')\n",
    "system.visualize()"
   ]
  },
  {
   "cell_type": "markdown",
   "metadata": {},
   "source": [
    "Save the system as a LAMMPS data file. LAMMPS is one of the most popular simulation packages, and we will revisit it for our workshop session on Friday.\n",
    "\n",
    "When going from an mBuild `Compound` to a data file that can be used to perform a simulation, we need to provide the proper force field parameters. This is where Foyer come in. By passing a Foyer force field XML file (or in this case, a list of XML files) to mBuild's `save` function, we are able to use Foyer to perform atomtyping under the hood and assign the proper force field parameters."
   ]
  },
  {
   "cell_type": "code",
   "execution_count": null,
   "metadata": {},
   "outputs": [],
   "source": [
    "system.periodicity = surface.periodicity + [0, 0, 10]\n",
    "system.save('gold-h2o.lammps', forcefield_files=['utils/tip3p.xml', 'utils/heinz2008.xml'],\n",
    "            overwrite=True)"
   ]
  },
  {
   "cell_type": "markdown",
   "metadata": {},
   "source": [
    "Run a short LAMMPS simulation. (This is just for demo purposes, so don't be too concerned with the input/output. By the end of this course you will be able to put together a simulation script yourself!)"
   ]
  },
  {
   "cell_type": "code",
   "execution_count": null,
   "metadata": {},
   "outputs": [],
   "source": [
    "! lmp_serial -in utils/in.short-eq -echo screen\n",
    "! python utils/xyz_to_pdb.py"
   ]
  },
  {
   "cell_type": "markdown",
   "metadata": {},
   "source": [
    "Read the output from the simulation back into mBuild."
   ]
  },
  {
   "cell_type": "code",
   "execution_count": null,
   "metadata": {},
   "outputs": [],
   "source": [
    "system.update_coordinates('output.pdb')\n",
    "system.visualize()"
   ]
  },
  {
   "cell_type": "markdown",
   "metadata": {},
   "source": [
    "Expand the system in the surface plane using mBuild's `TiledCompound` class."
   ]
  },
  {
   "cell_type": "code",
   "execution_count": null,
   "metadata": {},
   "outputs": [],
   "source": [
    "expanded_system = mb.TiledCompound(system, n_tiles=[5, 5, 1])\n",
    "expanded_system.visualize()"
   ]
  }
 ],
 "metadata": {
  "kernelspec": {
   "display_name": "Python 3",
   "language": "python",
   "name": "python3"
  },
  "language_info": {
   "codemirror_mode": {
    "name": "ipython",
    "version": 3
   },
   "file_extension": ".py",
   "mimetype": "text/x-python",
   "name": "python",
   "nbconvert_exporter": "python",
   "pygments_lexer": "ipython3",
   "version": "3.5.5"
  }
 },
 "nbformat": 4,
 "nbformat_minor": 2
}
