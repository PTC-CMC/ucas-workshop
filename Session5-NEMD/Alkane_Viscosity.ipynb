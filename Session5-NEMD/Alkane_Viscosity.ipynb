{
 "cells": [
  {
   "cell_type": "markdown",
   "metadata": {},
   "source": [
    "## Viscosity of Alkanes\n",
    "\n",
    "Description here \"In this session...\""
   ]
  },
  {
   "cell_type": "markdown",
   "metadata": {},
   "source": [
    "### Build the system\n",
    "\n",
    "Brief description of what we'll do."
   ]
  },
  {
   "cell_type": "markdown",
   "metadata": {},
   "source": [
    "#### Import mBuild"
   ]
  },
  {
   "cell_type": "code",
   "execution_count": null,
   "metadata": {},
   "outputs": [],
   "source": [
    "import mbuild as mb"
   ]
  },
  {
   "cell_type": "markdown",
   "metadata": {},
   "source": [
    "#### Create class for a CH2 moiety\n",
    "\n",
    "Here, we load the structure for a CH2 moeity from a PDB file and add two ports for the two dangling bonds on the carbon."
   ]
  },
  {
   "cell_type": "code",
   "execution_count": null,
   "metadata": {},
   "outputs": [],
   "source": [
    "class CH2(mb.Compound):\n",
    "    def __init__(self):\n",
    "        mb.load('utils/ch2.pdb', compound=self)\n",
    "        self.add(mb.Port(anchor=self[0], orientation=[0, 1, 0], separation=0.07), 'up')\n",
    "        self.add(mb.Port(anchor=self[0], orientation=[0, -1, 0], separation=0.07), 'down')"
   ]
  },
  {
   "cell_type": "markdown",
   "metadata": {},
   "source": [
    "#### Create class for a hydrogen atom\n",
    "\n",
    "Here, we create a hydrogen atom with a `Port` representing a single dangling bond."
   ]
  },
  {
   "cell_type": "code",
   "execution_count": null,
   "metadata": {},
   "outputs": [],
   "source": [
    "class H(mb.Compound):\n",
    "    def __init__(self):\n",
    "        self.add(mb.Compound(name='H'))\n",
    "        self.add(mb.Port(anchor=self[0], orientation=[0, 1, 0], separation=0.07), 'up')"
   ]
  },
  {
   "cell_type": "markdown",
   "metadata": {},
   "source": [
    "#### Create class for an alkane chain\n",
    "\n",
    "Here, we define a class that stitches together CH2 moieties into an alkane chain of a user-defined length (hydrogen atoms are used to cap the ends of the chain to provide the complete chemistry)."
   ]
  },
  {
   "cell_type": "code",
   "execution_count": null,
   "metadata": {},
   "outputs": [],
   "source": [
    "class Alkane(mb.Compound):\n",
    "    \"\"\"An alkane chain of a user-defined length.\"\"\"\n",
    "    def __init__(self, chain_length):\n",
    "        \"\"\"Initialize an Alkane Compound.\n",
    "\n",
    "        Parameters\n",
    "        ----------\n",
    "        chain_length : int\n",
    "            Length of the alkane chain (in number of carbons)\n",
    "        \"\"\"\n",
    "        if n < 1:\n",
    "            raise ValueError('n must be greater than 1')\n",
    "        super(Alkane, self).__init__()\n",
    "\n",
    "        chain = mb.Polymer(CH2(), n=n, port_labels=('up', 'down'))\n",
    "        self.add(chain, 'chain')\n",
    "        \n",
    "        self.add(H(), 'up_cap')\n",
    "        mb.force_overlap(move_this=self['up_cap'],\n",
    "                         from_positions=self['up_cap']['up'],\n",
    "                         to_positions=self['chain']['up'])\n",
    "        \n",
    "        self.add(H(), 'down_cap')\n",
    "        mb.force_overlap(move_this=self['down_cap'],\n",
    "                         from_positions=self['down_cap']['up'],\n",
    "                         to_positions=self['chain']['down'])"
   ]
  },
  {
   "cell_type": "markdown",
   "metadata": {},
   "source": [
    "#### Create class for a box of alkane chains\n",
    "\n",
    "Description"
   ]
  },
  {
   "cell_type": "code",
   "execution_count": null,
   "metadata": {},
   "outputs": [],
   "source": [
    "class AlkaneBox(mb.Compound):\n",
    "    # Need to add an argument for initial box size/density\n",
    "    def __init__(self, chain_length):\n",
    "        # Need to fill with actual commands\n",
    "        pass"
   ]
  },
  {
   "cell_type": "markdown",
   "metadata": {},
   "source": [
    "### Choose a molecule\n",
    "\n",
    "Using the class we defined above for creating a box of alkanes, instantiate a box of alkanes using a length of your choosing between 5 and 10 carbons.\n",
    "\n",
    "e.g. `alkane_box = AlkaneBox(chain_length=8)`"
   ]
  },
  {
   "cell_type": "code",
   "execution_count": null,
   "metadata": {},
   "outputs": [],
   "source": [
    "alkane_box = AlkaneBox(chain_length=)"
   ]
  },
  {
   "cell_type": "markdown",
   "metadata": {},
   "source": [
    "#### Save to LAMMPS format\n",
    "\n",
    "For saving we will need to provide a force field for Foyer to apply. For this simulation, we will use the Optimized Potentials for Liquid Simulations (OPLS) force field for all-atom systems."
   ]
  },
  {
   "cell_type": "code",
   "execution_count": null,
   "metadata": {},
   "outputs": [],
   "source": [
    "alkane_box.save('alkanes.lammps', forcefield_name='oplsaa', overwrite=True)"
   ]
  },
  {
   "cell_type": "markdown",
   "metadata": {},
   "source": [
    "#### Perform the simulation!\n",
    "\n",
    "First, however, lets take a look at the simulation script."
   ]
  },
  {
   "cell_type": "code",
   "execution_count": null,
   "metadata": {},
   "outputs": [],
   "source": [
    "!cat in.sllod"
   ]
  }
 ],
 "metadata": {
  "kernelspec": {
   "display_name": "Python 3",
   "language": "python",
   "name": "python3"
  },
  "language_info": {
   "codemirror_mode": {
    "name": "ipython",
    "version": 3
   },
   "file_extension": ".py",
   "mimetype": "text/x-python",
   "name": "python",
   "nbconvert_exporter": "python",
   "pygments_lexer": "ipython3",
   "version": "3.5.5"
  }
 },
 "nbformat": 4,
 "nbformat_minor": 2
}
