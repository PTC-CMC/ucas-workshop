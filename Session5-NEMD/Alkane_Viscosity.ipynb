{
 "cells": [
  {
   "cell_type": "markdown",
   "metadata": {},
   "source": [
    "## NEMD: Shear Viscosity of Linear Alkanes\n",
    "\n",
    "For our final workshop session we will be performing non-equilibrium molecular dynamics (NEMD) simulations of bulk systems of linear alkanes. Specifically, we will be using the SLLOD equations of motion to estimate shear viscosity.\n",
    "\n",
    "**References:**\n",
    "\n",
    "R. K. Bhupathiraju, S. T. Cui, S. A. Gupta, H. D. Cochran and P. T. Cummings, \"Molecular Simulation of Rheological Properties using Massively Parallel Supercomputers,\" Proceedings of the 1996 ACM/IEEE Conference on Supercomputing, 1996, pp. 52-52.\n",
    "\n",
    "P. J. Daivis and B. D. Todd, \"A simple, direct derivation and proof of the validity of the SLLOD equations of motion for generalized homogeneous flows,\" JCP, 2006, _124_, 194103"
   ]
  },
  {
   "cell_type": "markdown",
   "metadata": {},
   "source": [
    "### SLLOD Equations of Motion\n",
    "\n",
    "Recall from lecture:\n",
    "\n",
    "<img src=\"utils/sllod.png\" alt=\"SLLOD\" width=\"650px\"/>\n",
    "\n",
    "Derived by Evans and Morriss, the SLLOD equations of motion provide an approach for performing NEMD of homogenous planar shear flow.\n",
    "\n",
    "\\begin{align}\n",
    "\\dot{\\boldsymbol{q_i}} & = \\frac{\\boldsymbol{p_i}}{m_i} + \\boldsymbol{q_i} \\cdot \\nabla \\boldsymbol{u} \\\\\n",
    "\\dot{\\boldsymbol{p_i}} & = \\boldsymbol{F_i} - \\boldsymbol{p_i} \\cdot \\nabla \\boldsymbol{u} \\\\\n",
    "\\end{align}\n",
    "\n",
    "\\begin{align}\n",
    "m_i,\\: \\boldsymbol{q_i},\\: \\boldsymbol{p_i},\\: \\boldsymbol{F_i} = \\mathrm{mass,\\: position,\\: momentum,\\: and\\: force\\: on\\: particle\\: i} \n",
    "\\end{align}\n",
    "\n",
    "\\begin{align}\n",
    "\\nabla \\boldsymbol{u} = \\mathrm{velocity\\: gradient\\: tensor}\n",
    "\\end{align}"
   ]
  },
  {
   "cell_type": "markdown",
   "metadata": {},
   "source": [
    "### Construct the molecular system\n",
    "\n",
    "We will again use the MoSDeF toolkit to build our system.\n",
    "\n",
    "Recall on Wednesday we created an mBuild class for a system of bulk alkanes. This class has been included in a `utils` directory for us to reuse in this session. All we need to do is import the class."
   ]
  },
  {
   "cell_type": "code",
   "execution_count": null,
   "metadata": {},
   "outputs": [],
   "source": [
    "from utils import AlkaneBox"
   ]
  },
  {
   "cell_type": "markdown",
   "metadata": {},
   "source": [
    "### Create a box of linear alkanes\n",
    "\n",
    "With our class imported, we can create our system by instantiating and specifying the alkane chain length, the number of chains to place in the box, and the density at which we want to pack the box.\n",
    "\n",
    "We don't want to create _too_ big of a system, so let's just use 100 chains. Concerning the chain length, you may choose any of the following, just be sure to use the correct density!\n",
    "\n",
    "| Chain Length (number of carbons) | Density (kg/m^3) |\n",
    "| --- | --- |\n",
    "| 5 (pentane) | 626 |\n",
    "| 6 (hexane) | 659 |\n",
    "| 8 (octane) | 703 |\n",
    "| 10 (decane) | 730 |"
   ]
  },
  {
   "cell_type": "code",
   "execution_count": null,
   "metadata": {},
   "outputs": [],
   "source": [
    "chain_length = 8\n",
    "\n",
    "alkane_box = AlkaneBox(chain_length=chain_length, n_chains=100, density=703)"
   ]
  },
  {
   "cell_type": "markdown",
   "metadata": {},
   "source": [
    "Let's take a quick look at our system."
   ]
  },
  {
   "cell_type": "code",
   "execution_count": null,
   "metadata": {},
   "outputs": [],
   "source": [
    "alkane_box.visualize()"
   ]
  },
  {
   "cell_type": "markdown",
   "metadata": {},
   "source": [
    "#### LAMMPS\n",
    "\n",
    "We will be running our simulations today using the LAMMPS (Large-scale Atomic/Molecular Massively Parallel Simulator) simulation code. This simulation package dates back to the mid-1990s and is developed primarily at Sandia National Laboratory. Although LAMMPS does not approach the performance of GROMACS (due to a lack of rigorous GPU optimization), it remains one of the most popular simulation codes as it provides perhaps the greatest flexibility of any open-source molecular dynamics code. \n",
    "\n",
    "#### Saving to LAMMPS data format\n",
    "\n",
    "mBuild can save `Compound` information directly to the data format required for LAMMPS. As with our systems on Wednesday, we will need to pass a force field to apply when saving so that all the necessary information is provided in our data file to run the simulation. The standard OPLS force field (which we used for our bulk alkane systems on Wednesday) has been shown by Allen and Rowley to overestimate the dynamic viscosity of linear alkanes. However, they showed that by reducing the value of the hydrogen σ from 2.5Å to 2.38Å the agreement was significantly improved. Thus, we will use the Allen-Rowley modification to the OPLS force field for our system."
   ]
  },
  {
   "cell_type": "code",
   "execution_count": null,
   "metadata": {},
   "outputs": [],
   "source": [
    "alkane_box.save('alkanes.lammps', forcefield_files='opls-ar.xml', overwrite=True,\n",
    "                residues='Alkane')"
   ]
  },
  {
   "cell_type": "markdown",
   "metadata": {},
   "source": [
    "The LAMMPS data file contains coordinate, topological, and force field information. Let's take a quick look at the beginning of the file."
   ]
  },
  {
   "cell_type": "code",
   "execution_count": null,
   "metadata": {},
   "outputs": [],
   "source": [
    "!head -n 50 pentane.lammps"
   ]
  },
  {
   "cell_type": "markdown",
   "metadata": {},
   "source": [
    "### Running an NEMD simulation\n",
    "\n",
    "Let's take a peek at the simulation input script."
   ]
  },
  {
   "cell_type": "code",
   "execution_count": 1,
   "metadata": {},
   "outputs": [
    {
     "name": "stdout",
     "output_type": "stream",
     "text": [
      "# Define variables\r\n",
      "variable        temperature equal 298.15\r\n",
      "variable\t    srate equal ${STRAINRATE}\r\n",
      "variable        seed equal 12345\r\n",
      "\r\n",
      "# Use real units (Distance: angstroms, Time: femtoseconds, Energy: kcal/mol)\r\n",
      "units\t\t    real\r\n",
      "\r\n",
      "# Define atom style (Full: bonds, angles, dihedrals, and charges)\r\n",
      "atom_style\t    full\r\n",
      "\r\n",
      "# Define neighborlist params\r\n",
      "neighbor        2.5 bin\r\n",
      "neigh_modify    delay 5 every 1\r\n",
      "\r\n",
      "# Define potential functional forms\r\n",
      "pair_style      lj/cut/coul/long 11.0\r\n",
      "bond_style      harmonic\r\n",
      "angle_style     harmonic\r\n",
      "dihedral_style  opls\r\n",
      "\r\n",
      "# Set scaling of nonbonded interactions for 1-4 neighbors to 0.5\r\n",
      "special_bonds   lj/coul 0 0 0.5\r\n",
      "\r\n",
      "# Load system\r\n",
      "read_data       alkanes.lammps\r\n",
      "\r\n",
      "# Shift the LJ potential to 0 at the cutoff\r\n",
      "pair_modify     shift yes\r\n",
      "\r\n",
      "# Convert box to triclinic (allows us to deform the box during NEMD stage)\r\n",
      "change_box      all triclinic\r\n",
      "\r\n",
      "# Setup long-range electrostatics\r\n",
      "kspace_style    pppm 1.0e-4\r\n",
      "\r\n",
      "# Initialize velocities\r\n",
      "velocity        all create ${temperature} ${seed} dist gaussian\r\n",
      "\r\n",
      "# Energy minimization\r\n",
      "minimize        1.0e-4 1.0e-6 100 1000\r\n",
      "\r\n",
      "# Constrain C-H bonds and H-C-H angles (permits a larger timestep)\r\n",
      "fix             constr all shake 0.0001 20 1000 b 1 a 3\r\n",
      "\r\n",
      "# ===========\r\n",
      "# Equilibrate\r\n",
      "# ===========\r\n",
      "\r\n",
      "# Langevin-thermostatted NVT (here broken into two commands)\r\n",
      "fix             1 all nve\r\n",
      "fix\t            2 all langevin ${temperature} ${temperature} 100 ${seed}\r\n",
      "\r\n",
      "# Use a 2fs timestep (possible due to H-bond constraints)\r\n",
      "timestep        2.0\r\n",
      "\r\n",
      "# Dump coordinates to a file every 1ps\r\n",
      "dump            1 all xtc 500 equilibrate.xtc\r\n",
      "\r\n",
      "# Dump thermodynamics output every 1ps\r\n",
      "thermo          500\r\n",
      "\r\n",
      "# Run equilibration for 250ps\r\n",
      "run\t            125000\r\n",
      "\r\n",
      "# Remove integrators and dump commands\r\n",
      "unfix  \t        1\r\n",
      "unfix\t\t    2\r\n",
      "undump          1\r\n",
      "\r\n",
      "# ====\r\n",
      "# NEMD\r\n",
      "# ====\r\n",
      "\r\n",
      "# Scale velocities to the desired temperature\r\n",
      "velocity\t    all scale ${temperature}\r\n",
      "\r\n",
      "# Compute viscosity to output during the simulation\r\n",
      "variable\t    viscosity equal -pxy/(v_srate)\r\n",
      "fix\t\t        vave all ave/time 5 10 50 v_viscosity ave running\r\n",
      "\r\n",
      "# Set up NVT integration using SLLOD equations of motion\r\n",
      "fix\t\t        1 all nvt/sllod temp ${temperature} ${temperature} 100\r\n",
      "\r\n",
      "# Deform the box based on the desired strain rate\r\n",
      "fix             2 all deform 1 xy erate ${srate} remap v\r\n",
      "\r\n",
      "# Dump coordinates to a file every 1ps\r\n",
      "dump            1 all xtc 500 nemd.xtc\r\n",
      "\r\n",
      "# Compute what the temperature would be without correcting for added velocities\r\n",
      "compute\t\t    usual all temp\r\n",
      "\r\n",
      "# Compute the actual temperature\r\n",
      "compute\t\t    tilt all temp/deform\r\n",
      "\r\n",
      "# Define output to be written to the log file\r\n",
      "thermo_style\tcustom step temp c_usual epair etotal press pxy v_viscosity f_vave\r\n",
      "thermo_modify\ttemp tilt\r\n",
      "\r\n",
      "# Run for 5ns\r\n",
      "run\t\t        2500000\r\n"
     ]
    }
   ],
   "source": [
    "!cat in.nemd"
   ]
  },
  {
   "cell_type": "markdown",
   "metadata": {},
   "source": [
    "Wow! That's a bit much to take in all at once. Let's break it down section-by-section."
   ]
  },
  {
   "cell_type": "code",
   "execution_count": 3,
   "metadata": {},
   "outputs": [
    {
     "name": "stdout",
     "output_type": "stream",
     "text": [
      "# Define variables\r\n",
      "variable        temperature equal 298.15\r\n",
      "variable\t    srate equal ${STRAINRATE}\r\n",
      "variable        seed equal 12345\r\n",
      "\r\n"
     ]
    }
   ],
   "source": [
    "!sed -n '1,5 p' in.nemd"
   ]
  },
  {
   "cell_type": "markdown",
   "metadata": {},
   "source": [
    "In the first few lines of our simulation script we define some variables that we will be using through the script, specifically the temperature (298.15K), strain rate (which we are reading in from the command line), and a seed for the random number generator (12345)."
   ]
  },
  {
   "cell_type": "code",
   "execution_count": 4,
   "metadata": {},
   "outputs": [
    {
     "name": "stdout",
     "output_type": "stream",
     "text": [
      "# Use real units (Distance: angstroms, Time: femtoseconds, Energy: kcal/mol)\r\n",
      "units\t\t    real\r\n",
      "\r\n",
      "# Define atom style (Full: bonds, angles, dihedrals, and charges)\r\n",
      "atom_style\t    full\r\n"
     ]
    }
   ],
   "source": [
    "!sed -n '6,10 p' in.nemd"
   ]
  },
  {
   "cell_type": "markdown",
   "metadata": {},
   "source": [
    "We need to tell LAMMPS what units to expect (and what to output). We'll choose **`real`** units, which means that _distances_ will be in **Angstroms**, _time_ will be in **femtoseconds**, and _energy_ will be in **kcal/mol**.\n",
    "\n",
    "Additionally, we need to tell LAMMPS what format our data file will be in through the `atom_style` command. By choosing **`full`** we're telling LAMMPS to expect bond, angle, and dihedral information in addition to atom information, and also to read in partial charges for each atom."
   ]
  },
  {
   "cell_type": "code",
   "execution_count": 5,
   "metadata": {},
   "outputs": [
    {
     "name": "stdout",
     "output_type": "stream",
     "text": [
      "# Define neighborlist params\r\n",
      "neighbor        2.5 bin\r\n",
      "neigh_modify    delay 5 every 1\r\n"
     ]
    }
   ],
   "source": [
    "!sed -n '12,14 p' in.nemd"
   ]
  },
  {
   "cell_type": "markdown",
   "metadata": {},
   "source": [
    "Here, we define our neighborlist parameters. We tell LAMMPS to use a skin distance of 2.5Å, to use the `bin` style to generate the neighborlist, and to rebuild the neighborlist every 5 timesteps."
   ]
  },
  {
   "cell_type": "code",
   "execution_count": 11,
   "metadata": {},
   "outputs": [
    {
     "name": "stdout",
     "output_type": "stream",
     "text": [
      "# Define potential functional forms\r\n",
      "pair_style      lj/cut/coul/long 11.0\r\n",
      "bond_style      harmonic\r\n",
      "angle_style     harmonic\r\n",
      "dihedral_style  opls\r\n",
      "\r\n",
      "# Set scaling of nonbonded interactions for 1-4 neighbors to 0.5\r\n",
      "special_bonds   lj/coul 0 0 0.5\r\n",
      "\r\n",
      "# Shift the LJ potential to 0 at the cutoff\r\n",
      "pair_modify     shift yes\r\n",
      "\r\n",
      "# Setup long-range electrostatics\r\n",
      "kspace_style    pppm 1.0e-4\r\n"
     ]
    }
   ],
   "source": [
    "!sed -n '16,24 p; 28,30 p; 34,35 p' in.nemd"
   ]
  },
  {
   "cell_type": "markdown",
   "metadata": {},
   "source": [
    "Here we define our force field. The force field parameters themselves are read in from the data file, but we still need to tell LAMMPS which functional forms to use. We're going to be using a modified form of the OPLS force field, therefore"
   ]
  },
  {
   "cell_type": "code",
   "execution_count": null,
   "metadata": {},
   "outputs": [],
   "source": [
    "!sed -n '18,21 p' in.nemd"
   ]
  },
  {
   "cell_type": "code",
   "execution_count": null,
   "metadata": {},
   "outputs": [],
   "source": [
    "!sed -n '24p' in.nemd"
   ]
  },
  {
   "cell_type": "code",
   "execution_count": null,
   "metadata": {},
   "outputs": [],
   "source": [
    "!sed -n '27p' in.nemd"
   ]
  },
  {
   "cell_type": "code",
   "execution_count": null,
   "metadata": {},
   "outputs": [],
   "source": [
    "!sed -n '30p' in.nemd"
   ]
  },
  {
   "cell_type": "code",
   "execution_count": null,
   "metadata": {},
   "outputs": [],
   "source": [
    "!sed -n '33p' in.nemd"
   ]
  },
  {
   "cell_type": "code",
   "execution_count": null,
   "metadata": {},
   "outputs": [],
   "source": [
    "!sed -n '36p' in.nemd"
   ]
  },
  {
   "cell_type": "code",
   "execution_count": null,
   "metadata": {},
   "outputs": [],
   "source": [
    "!sed -n '39p' in.nemd"
   ]
  },
  {
   "cell_type": "code",
   "execution_count": null,
   "metadata": {},
   "outputs": [],
   "source": [
    "!sed -n '42p' in.nemd"
   ]
  },
  {
   "cell_type": "code",
   "execution_count": null,
   "metadata": {},
   "outputs": [],
   "source": [
    "!sed -n '45p' in.nemd"
   ]
  },
  {
   "cell_type": "code",
   "execution_count": null,
   "metadata": {},
   "outputs": [],
   "source": [
    "!sed -n '52,53 p' in.nemd"
   ]
  },
  {
   "cell_type": "code",
   "execution_count": null,
   "metadata": {},
   "outputs": [],
   "source": [
    "!sed -n '56p' in.nemd"
   ]
  },
  {
   "cell_type": "code",
   "execution_count": null,
   "metadata": {},
   "outputs": [],
   "source": [
    "!sed -n '58,62 p' in.nemd"
   ]
  },
  {
   "cell_type": "code",
   "execution_count": null,
   "metadata": {},
   "outputs": [],
   "source": [
    "!sed -n '65p' in.nemd"
   ]
  },
  {
   "cell_type": "code",
   "execution_count": null,
   "metadata": {},
   "outputs": [],
   "source": [
    "!sed -n '68,70 p' in.nemd"
   ]
  },
  {
   "cell_type": "code",
   "execution_count": null,
   "metadata": {},
   "outputs": [],
   "source": [
    "!sed -n '77p' in.nemd"
   ]
  },
  {
   "cell_type": "code",
   "execution_count": null,
   "metadata": {},
   "outputs": [],
   "source": [
    "!sed -n '80,81 p' in.nemd"
   ]
  },
  {
   "cell_type": "code",
   "execution_count": null,
   "metadata": {},
   "outputs": [],
   "source": [
    "!sed -n '83,87 p' in.nemd"
   ]
  },
  {
   "cell_type": "code",
   "execution_count": null,
   "metadata": {},
   "outputs": [],
   "source": [
    "!sed -n '90p' in.nemd"
   ]
  },
  {
   "cell_type": "code",
   "execution_count": null,
   "metadata": {},
   "outputs": [],
   "source": [
    "!sed -n '92,96 p' in.nemd"
   ]
  },
  {
   "cell_type": "code",
   "execution_count": null,
   "metadata": {},
   "outputs": [],
   "source": [
    "!sed -n '99,100 p' in.nemd"
   ]
  },
  {
   "cell_type": "code",
   "execution_count": null,
   "metadata": {},
   "outputs": [],
   "source": [
    "!sed -n '103p' in.nemd"
   ]
  },
  {
   "cell_type": "markdown",
   "metadata": {},
   "source": [
    "Before performing our simulation we need to choose a strain rate. Higher strain rates increase the signal-to-noise ratio and reach steady-state in a shorter amount of time; however, the viscosity of alkanes has been shown to decrease if the strain rate becomes too high:\n",
    "\n",
    "\n",
    "From the above results, we see that the value of the strain rate where the viscosity begins to become underestimated is dependent on the chain length, with longer chains realizing these effects at lower strain rates. Based on these results, a strain rate of 0.01 should be sufficient to yield a reliable viscosity estimate for alkanes with ≤ 10 backbone carbons. We will pass this as an argument to the execution of the LAMMPS script in the command below.\n",
    "\n",
    "**NOTE:** The command below was tested on an 8 core machine. Depending on your machine, you may need to alter the `mpirun` syntax and/or the number of processes spawned."
   ]
  },
  {
   "cell_type": "code",
   "execution_count": null,
   "metadata": {},
   "outputs": [],
   "source": [
    "!mpirun -np 8 lmp_mpi -in in.nemd -log nemd.log -var STRAINRATE 0.00001"
   ]
  },
  {
   "cell_type": "markdown",
   "metadata": {},
   "source": [
    "### Comparing with experiment\n",
    "\n",
    "| Chain Length (number of carbons) | Viscosity, Expt. (cP) | Viscosity, NEMD (cP) |\n",
    "| --- | --- | --- |\n",
    "| 5 (pentane) | 0.240 | ??? |\n",
    "| 6 (hexane) | 0.3 | ??? |\n",
    "| 8 (octane) | 0.542 | ??? |\n",
    "| 10 (decane) | 0.920 | ??? |"
   ]
  },
  {
   "cell_type": "markdown",
   "metadata": {},
   "source": [
    "The simulation should have generated a `nemd.log` output file. Here, we'll read that in to obtain a time series for the viscosity. We will use `matplotlib` to plot the viscosity time series alongside the expected value.\n",
    "\n",
    "Execute the code below. How well did we do? Viscosity can be a difficult property to match with simulation, particularly if the force field was parameterized against only thermodynamic data. Results within 10-20% are acceptable.\n",
    "\n",
    "**NOTE:** If your simulation has not completed, pre-computed results are available in the `data` directory. You can access this by changing the `filename` variable in the code below to either `data/pentane.log`, `data/hexane.log`, `data/octane.log`, or `data/decane.log` depending on the system you created above."
   ]
  },
  {
   "cell_type": "code",
   "execution_count": null,
   "metadata": {},
   "outputs": [],
   "source": [
    "%matplotlib inline\n",
    "import matplotlib.pyplot as plt\n",
    "import numpy as np\n",
    "\n",
    "filename = 'nemd.log'\n",
    "\n",
    "expt = {5: 0.240, 6: 0.3, 8: 0.542, 10: 0.920}\n",
    "\n",
    "time = []        # in ns\n",
    "viscosity = []   # in cP\n",
    "\n",
    "with open(filename, 'r') as f:\n",
    "    for i, line in enumerate(f):\n",
    "        if (i > 790 and len(line.split()) == 9 and 'SHAKE' not in line\n",
    "            and 'Total' not in line):\n",
    "            data = line.split()\n",
    "            current_timestep = int(data[0])\n",
    "            if not time:\n",
    "                initial_timestep = current_timestep\n",
    "            time.append((current_timestep - initial_timestep) * 2 / 1e6)\n",
    "            viscosity.append(float(data[-1]) * 101325 / 10**15 * 1000)\n",
    "\n",
    "fig, ax = plt.subplots()\n",
    "\n",
    "# Plot measured viscosity\n",
    "ax.plot(time, viscosity, label='NEMD')\n",
    "\n",
    "# Plot expected value\n",
    "expt_val = expt[chain_length]\n",
    "xdata = np.linspace(time[0], time[-1], 100)\n",
    "ydata = [expt_val for _ in xdata]\n",
    "plt.plot(xdata, ydata, linestyle='--', color='k', label='Expected')\n",
    "\n",
    "ax.set_xlabel('Time, ns')\n",
    "ax.set_ylabel('Viscosity, cP')\n",
    "ax.legend()\n",
    "\n",
    "plt.show()"
   ]
  },
  {
   "cell_type": "code",
   "execution_count": null,
   "metadata": {},
   "outputs": [],
   "source": []
  }
 ],
 "metadata": {
  "kernelspec": {
   "display_name": "Python 3",
   "language": "python",
   "name": "python3"
  },
  "language_info": {
   "codemirror_mode": {
    "name": "ipython",
    "version": 3
   },
   "file_extension": ".py",
   "mimetype": "text/x-python",
   "name": "python",
   "nbconvert_exporter": "python",
   "pygments_lexer": "ipython3",
   "version": "3.5.5"
  }
 },
 "nbformat": 4,
 "nbformat_minor": 2
}
