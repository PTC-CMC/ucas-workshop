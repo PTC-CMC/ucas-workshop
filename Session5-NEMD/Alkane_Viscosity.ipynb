{
 "cells": [
  {
   "cell_type": "markdown",
   "metadata": {},
   "source": [
    "## NEMD: Shear Viscosity of Linear Alkanes\n",
    "\n",
    "For our final workshop session we will be performing non-equilibrium molecular dynamics (NEMD) simulations of bulk systems of linear alkanes. Specifically, we will be using the SLLOD equations of motion to estimate shear viscosity."
   ]
  },
  {
   "cell_type": "markdown",
   "metadata": {},
   "source": [
    "### SLLOD Equations of Motion\n",
    "\n",
    "Recall from lecture:\n",
    "\n",
    "PICTURE OF SLLOD SYSTEM\n",
    "\n",
    "WALK THROUGH EQUATIONS"
   ]
  },
  {
   "cell_type": "markdown",
   "metadata": {},
   "source": [
    "### Construct the molecular system\n",
    "\n",
    "We will again use the MoSDeF toolkit to build our system.\n",
    "\n",
    "Recall on Wednesday we created an mBuild class for a system of bulk alkanes. This class has been included in a `utils` directory for us to reuse in this session. All we need to do is import the class."
   ]
  },
  {
   "cell_type": "code",
   "execution_count": null,
   "metadata": {},
   "outputs": [],
   "source": [
    "from utils import AlkaneBox"
   ]
  },
  {
   "cell_type": "markdown",
   "metadata": {},
   "source": [
    "### Create a box of linear alkanes\n",
    "\n",
    "With our class imported, we can create our system by instantiating and specifying the alkane chain length, the number of chains to place in the box, and the density at which we want to pack the box.\n",
    "\n",
    "We don't want to create _too_ big of a system, so let's just use 100 chains. Concerning the chain length, you may choose any of the following, just be sure to use the correct density!\n",
    "\n",
    "| Chain Length (number of carbons) | Density (kg/m^3) |\n",
    "| --- | --- |\n",
    "| 5 (pentane) | 626 |\n",
    "| 6 (hexane) | 659 |\n",
    "| 8 (octane) | 703 |\n",
    "| 10 (decane) | 730 |"
   ]
  },
  {
   "cell_type": "code",
   "execution_count": null,
   "metadata": {},
   "outputs": [],
   "source": [
    "alkane_box = AlkaneBox(chain_length=8, n_chains=100, density=703)"
   ]
  },
  {
   "cell_type": "markdown",
   "metadata": {},
   "source": [
    "Let's take a quick look at our system."
   ]
  },
  {
   "cell_type": "code",
   "execution_count": null,
   "metadata": {},
   "outputs": [],
   "source": [
    "alkane_box.visualize()"
   ]
  },
  {
   "cell_type": "markdown",
   "metadata": {},
   "source": [
    "#### LAMMPS\n",
    "\n",
    "We will be running our simulations today using the LAMMPS (Large-scale Atomic/Molecular Massively Parallel Simulator) simulation code. This simulation package dates back to the mid-1990s and is developed primarily at Sandia National Laboratory. Although LAMMPS does not approach the performance of GROMACS (due to a lack of rigorous GPU optimization), it remains one of the most popular simulation codes as it provides perhaps the greatest flexibility of any open-source molecular dynamics code. \n",
    "\n",
    "#### Saving to LAMMPS data format\n",
    "\n",
    "mBuild can save `Compound` information directly to the data format required for LAMMPS. As with our systems on Wednesday, we will need to pass a force field to apply when saving so that all the necessary information is provided in our data file to run the simulation. We will again use the OPLS force field for all-atom systems, as this force field provides sufficient accuracy for simulations of liquid alkanes."
   ]
  },
  {
   "cell_type": "code",
   "execution_count": null,
   "metadata": {},
   "outputs": [],
   "source": [
    "alkane_box.save('alkanes.lammps', forcefield_name='oplsaa', overwrite=True, residues='Alkane')"
   ]
  },
  {
   "cell_type": "markdown",
   "metadata": {},
   "source": [
    "The LAMMPS data file contains coordinate, topological, and force field information. Let's take a quick look at the beginning of the file."
   ]
  },
  {
   "cell_type": "code",
   "execution_count": null,
   "metadata": {},
   "outputs": [],
   "source": [
    "!head -n 50 alkanes.lammps"
   ]
  },
  {
   "cell_type": "markdown",
   "metadata": {},
   "source": [
    "### Running an NEMD simulation"
   ]
  },
  {
   "cell_type": "code",
   "execution_count": null,
   "metadata": {},
   "outputs": [],
   "source": [
    "!cat in.sllod"
   ]
  },
  {
   "cell_type": "markdown",
   "metadata": {},
   "source": [
    "Choose a strain rate! Let's try to keep it reasonable, so choose a value between X and Y."
   ]
  },
  {
   "cell_type": "code",
   "execution_count": null,
   "metadata": {},
   "outputs": [],
   "source": [
    "strain_rate = 0.0005\n",
    "!mpirun -np 8 lmp_mpi -in in.sllod -log sllod.log -var STRAINRATE strain_rate"
   ]
  },
  {
   "cell_type": "markdown",
   "metadata": {},
   "source": [
    "Experimental values\n",
    "\n",
    "| Chain Length (number of carbons) | Viscosity (cP) |\n",
    "| --- | --- |\n",
    "| 5 (pentane) | 0.214 |\n",
    "| 6 (hexane) | 0.297 |\n",
    "| 8 (octane) | 0.51 |\n",
    "| 10 (decane) | 0.859 |"
   ]
  },
  {
   "cell_type": "markdown",
   "metadata": {},
   "source": [
    "(Gather results, plot, look at trends with chain length and strain rate)"
   ]
  },
  {
   "cell_type": "code",
   "execution_count": null,
   "metadata": {},
   "outputs": [],
   "source": []
  }
 ],
 "metadata": {
  "kernelspec": {
   "display_name": "Python 3",
   "language": "python",
   "name": "python3"
  },
  "language_info": {
   "codemirror_mode": {
    "name": "ipython",
    "version": 3
   },
   "file_extension": ".py",
   "mimetype": "text/x-python",
   "name": "python",
   "nbconvert_exporter": "python",
   "pygments_lexer": "ipython3",
   "version": "3.5.5"
  }
 },
 "nbformat": 4,
 "nbformat_minor": 2
}
