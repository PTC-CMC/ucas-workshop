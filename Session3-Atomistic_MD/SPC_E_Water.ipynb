{
 "cells": [
  {
   "cell_type": "markdown",
   "metadata": {},
   "source": [
    "## Atomistic Molecular Dynamics: Bulk Liquids - SPC/E Water"
   ]
  },
  {
   "cell_type": "markdown",
   "metadata": {},
   "source": [
    "### Build the system"
   ]
  },
  {
   "cell_type": "code",
   "execution_count": null,
   "metadata": {},
   "outputs": [],
   "source": [
    "import mbuild as mb\n",
    "\n",
    "class H2O(mb.Compound):\n",
    "    def __init__(self):\n",
    "        super(H2O, self).__init__()\n",
    "        mb.load('utils/h2o.pdb', compound=self)"
   ]
  },
  {
   "cell_type": "code",
   "execution_count": null,
   "metadata": {},
   "outputs": [],
   "source": [
    "water = H2O()\n",
    "water.visualize()"
   ]
  },
  {
   "cell_type": "code",
   "execution_count": null,
   "metadata": {},
   "outputs": [],
   "source": [
    "class WaterBox(mb.Compound):\n",
    "    \"\"\"An box of water.\"\"\"\n",
    "    def __init__(self, n_molecules):\n",
    "        \"\"\"Initialize an WaterBox Compound.\n",
    "\n",
    "        Parameters\n",
    "        ----------\n",
    "        n_molecules : int\n",
    "            Number of molecules to place in the box\n",
    "        \"\"\"\n",
    "        super(WaterBox, self).__init__()\n",
    "        \n",
    "        # Create a prototype for water using the class above\n",
    "        water = H2O()\n",
    "\n",
    "        # Fill a box with water at 1000 kg/m^3\n",
    "        box_of_waters = mb.fill_box(compound=water, n_compounds=n_molecules,\n",
    "                                    density=1000)\n",
    "        \n",
    "        # Rename all molecules to `water`, this speeds up the atom-typing process\n",
    "        for child in box_of_waters.children:\n",
    "            child.name = 'Water'\n",
    "        self.add(box_of_waters)"
   ]
  },
  {
   "cell_type": "code",
   "execution_count": null,
   "metadata": {},
   "outputs": [],
   "source": [
    "water_box = WaterBox(500)\n",
    "water_box.visualize()"
   ]
  },
  {
   "cell_type": "code",
   "execution_count": null,
   "metadata": {},
   "outputs": [],
   "source": [
    "water_box.save('spce.gro', overwrite=True)\n",
    "water_box.save('spce.top', forcefield_files='spce.xml', overwrite=True, residues='Water')"
   ]
  },
  {
   "cell_type": "markdown",
   "metadata": {},
   "source": [
    "### Run the simulation"
   ]
  },
  {
   "cell_type": "markdown",
   "metadata": {},
   "source": [
    "Equilibrate"
   ]
  },
  {
   "cell_type": "code",
   "execution_count": null,
   "metadata": {},
   "outputs": [],
   "source": [
    "!gmx grompp -v -f npt-eq.mdp -c spce.gro -p spce.top -o npt-eq-spce"
   ]
  },
  {
   "cell_type": "code",
   "execution_count": null,
   "metadata": {},
   "outputs": [],
   "source": [
    "!gmx mdrun -s npt-eq-spce.tpr -o -x -deffnm npt-eq-spce"
   ]
  },
  {
   "cell_type": "markdown",
   "metadata": {},
   "source": [
    "View trajectory"
   ]
  },
  {
   "cell_type": "markdown",
   "metadata": {},
   "source": [
    "Plot volume, temperature, and energy"
   ]
  },
  {
   "cell_type": "markdown",
   "metadata": {},
   "source": [
    "#### NPT"
   ]
  },
  {
   "cell_type": "code",
   "execution_count": null,
   "metadata": {},
   "outputs": [],
   "source": [
    "!gmx grompp -v -f npt-prod.mdp -c npt-eq-spce.gro -p spce.top -o npt-prod-spce"
   ]
  },
  {
   "cell_type": "code",
   "execution_count": null,
   "metadata": {},
   "outputs": [],
   "source": [
    "!gmx mdrun -s npt-prod-spce.tpr -o -x -deffnm npt-prod-spce"
   ]
  },
  {
   "cell_type": "markdown",
   "metadata": {},
   "source": [
    "View trajectory"
   ]
  },
  {
   "cell_type": "markdown",
   "metadata": {},
   "source": [
    "Plot volume, temperature, and density"
   ]
  },
  {
   "cell_type": "code",
   "execution_count": null,
   "metadata": {},
   "outputs": [],
   "source": []
  }
 ],
 "metadata": {
  "kernelspec": {
   "display_name": "Python 3",
   "language": "python",
   "name": "python3"
  },
  "language_info": {
   "codemirror_mode": {
    "name": "ipython",
    "version": 3
   },
   "file_extension": ".py",
   "mimetype": "text/x-python",
   "name": "python",
   "nbconvert_exporter": "python",
   "pygments_lexer": "ipython3",
   "version": "3.5.5"
  }
 },
 "nbformat": 4,
 "nbformat_minor": 2
}
