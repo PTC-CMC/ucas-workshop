{
 "cells": [
  {
   "cell_type": "markdown",
   "metadata": {},
   "source": [
    "## Atomistic Molecular Dynamics: Bulk Liquids - Linear Alkanes\n",
    "\n",
    "The second system we will consider for performing atomistic MD is a system of linear alkanes."
   ]
  },
  {
   "cell_type": "markdown",
   "metadata": {},
   "source": [
    "### Build the system\n",
    "\n",
    "Again, we will use mBuild to construct our system.\n",
    "\n",
    "First, we will import mBuild, as well as specify a filter for some warnings that can often clutter the output."
   ]
  },
  {
   "cell_type": "code",
   "execution_count": null,
   "metadata": {},
   "outputs": [],
   "source": [
    "import mbuild as mb\n",
    "import warnings\n",
    "warnings.simplefilter(action='ignore', category=FutureWarning)"
   ]
  },
  {
   "cell_type": "markdown",
   "metadata": {},
   "source": [
    "Now, we will define a class to create a `CH2` moiety, similar to what we did on Monday. Here, we load the structure for a CH2 moeity from a PDB file and add two ports for the two dangling bonds on the carbon."
   ]
  },
  {
   "cell_type": "code",
   "execution_count": null,
   "metadata": {},
   "outputs": [],
   "source": [
    "class CH2(mb.Compound):\n",
    "    def __init__(self):\n",
    "        super(CH2, self).__init__()\n",
    "        mb.load('utils/ch2.pdb', compound=self)\n",
    "        self.add(mb.Port(anchor=self[0], orientation=[0, 1, 0], separation=0.07), 'up')\n",
    "        self.add(mb.Port(anchor=self[0], orientation=[0, -1, 0], separation=0.07), 'down')"
   ]
  },
  {
   "cell_type": "markdown",
   "metadata": {},
   "source": [
    "Let's visualize to make sure it looks okay."
   ]
  },
  {
   "cell_type": "code",
   "execution_count": null,
   "metadata": {},
   "outputs": [],
   "source": [
    "ch2 = CH2()\n",
    "ch2.visualize(show_ports=True)"
   ]
  },
  {
   "cell_type": "markdown",
   "metadata": {},
   "source": [
    "Here, we create a hydrogen atom with a `Port` representing a single dangling bond."
   ]
  },
  {
   "cell_type": "code",
   "execution_count": null,
   "metadata": {},
   "outputs": [],
   "source": [
    "class Hydrogen(mb.Compound):\n",
    "    def __init__(self):\n",
    "        super(Hydrogen, self).__init__()\n",
    "        self.add(mb.Compound(name='H'))\n",
    "        self.add(mb.Port(anchor=self[0], orientation=[0, 1, 0], separation=0.07), 'up')"
   ]
  },
  {
   "cell_type": "markdown",
   "metadata": {},
   "source": [
    "Again, let's visualize as a sanity check."
   ]
  },
  {
   "cell_type": "code",
   "execution_count": null,
   "metadata": {},
   "outputs": [],
   "source": [
    "h = Hydrogen()\n",
    "h.visualize(show_ports=True)"
   ]
  },
  {
   "cell_type": "markdown",
   "metadata": {},
   "source": [
    "#### Create class for an alkane chain (with arbitrary length)\n",
    "\n",
    "Here, we will define a class that stitches together CH2 moieties into an alkane chain of a user-defined length (hydrogen atoms are used to cap the ends of the chain to provide the complete chemistry). This should look familiar from our session on Monday.\n",
    "\n",
    "We provide a `chain_length` argument to the constructor so that we can easily toggle the length of the chain upon instantiation."
   ]
  },
  {
   "cell_type": "code",
   "execution_count": null,
   "metadata": {},
   "outputs": [],
   "source": [
    "class Alkane(mb.Compound):\n",
    "    \"\"\"An alkane chain of a user-defined length.\"\"\"\n",
    "    def __init__(self, chain_length):\n",
    "        \"\"\"Initialize an Alkane Compound.\n",
    "\n",
    "        Parameters\n",
    "        ----------\n",
    "        chain_length : int\n",
    "            Length of the alkane chain (in number of carbons)\n",
    "        \"\"\"\n",
    "        # Make sure the user inputs a chain length of at least 1\n",
    "        if chain_length < 1:\n",
    "            raise ValueError('Chain length must be greater than 1')\n",
    "        \n",
    "        super(Alkane, self).__init__()\n",
    "\n",
    "        # Create a polymer of CH2 units\n",
    "        chain = mb.Polymer(CH2(), n=chain_length, port_labels=('up', 'down'))\n",
    "        self.add(chain, 'chain')\n",
    "        \n",
    "        # Cap one end of the polymer with a hydrogen\n",
    "        self.add(Hydrogen(), 'up_cap')\n",
    "        mb.force_overlap(move_this=self['up_cap'],\n",
    "                         from_positions=self['up_cap']['up'],\n",
    "                         to_positions=self['chain']['up'])\n",
    "        \n",
    "        # Cap the other end of the polymer with a hydrogen\n",
    "        self.add(Hydrogen(), 'down_cap')\n",
    "        mb.force_overlap(move_this=self['down_cap'],\n",
    "                         from_positions=self['down_cap']['up'],\n",
    "                         to_positions=self['chain']['down'])"
   ]
  },
  {
   "cell_type": "markdown",
   "metadata": {},
   "source": [
    "Let's check out what happens if we pass a chain length of 1 to an instance of this class. We'll also perform an energy minimization so the resulting structure looks reasonable."
   ]
  },
  {
   "cell_type": "code",
   "execution_count": null,
   "metadata": {},
   "outputs": [],
   "source": [
    "methane = Alkane(chain_length=1) # Create an alkane with chain length of 1, i.e. methane\n",
    "methane.energy_minimization()    # Energy minimize so that the structure appears reasonable\n",
    "methane.visualize()"
   ]
  },
  {
   "cell_type": "markdown",
   "metadata": {},
   "source": [
    "Again, as we've added the `chain_length` argument to the class definition. Creating a chain with a different length is as easy as creating another instance with a different `chain_length` value provided."
   ]
  },
  {
   "cell_type": "code",
   "execution_count": null,
   "metadata": {},
   "outputs": [],
   "source": [
    "hexane = Alkane(chain_length=6) # Create an alkane with chain length of 6, i.e. hexane\n",
    "hexane.energy_minimization()    # Energy minimize so that the structure appears reasonable\n",
    "hexane.visualize()"
   ]
  },
  {
   "cell_type": "markdown",
   "metadata": {},
   "source": [
    "#### Create class for a box of alkane chains\n",
    "\n",
    "Now we will define a class that creates a box of alkanes. This will be similar to the one we created on Monday; however, this time we will also allow for a `density` argument to be provided upon instantiation, in addition to arguments for the chain length and number of chains. This will tell mBuild to figure out the proper box size to be filled with the desired number of molecules at the desired density. This class then appears similar to the `WaterBox` class we defined in the other notebook."
   ]
  },
  {
   "cell_type": "code",
   "execution_count": null,
   "metadata": {},
   "outputs": [],
   "source": [
    "class AlkaneBox(mb.Compound):\n",
    "    \"\"\"An box of linear alkane chains.\"\"\"\n",
    "    def __init__(self, chain_length, n_chains, density):\n",
    "        \"\"\"Initialize an AlkaneBox Compound.\n",
    "\n",
    "        Parameters\n",
    "        ----------\n",
    "        chain_length : int\n",
    "            Length of the alkane chains (in number of carbons)\n",
    "        n_chains : int\n",
    "            Number of chains to place in the box\n",
    "        density : float\n",
    "            Density (in kg/m^3) at which the system should be created\n",
    "        \"\"\"\n",
    "        super(AlkaneBox, self).__init__()\n",
    "        \n",
    "        # Create alkane chain prototype using the class above\n",
    "        chain = Alkane(chain_length=chain_length)\n",
    "        \n",
    "        # Generate a more relaxed structure\n",
    "        chain.energy_minimization()\n",
    "        \n",
    "        # Fill a box with chains at a user-defined density\n",
    "        box_of_alkanes = mb.fill_box(compound=chain, n_compounds=n_chains,\n",
    "                                     density=density)\n",
    "        \n",
    "        # Rename all chains to `Alkane`, this speeds up the atom-typing process\n",
    "        for child in box_of_alkanes.children:\n",
    "            child.name = 'Alkane'\n",
    "        self.add(box_of_alkanes)"
   ]
  },
  {
   "cell_type": "markdown",
   "metadata": {},
   "source": [
    "Let's go ahead and create an instance of the `AlkaneBox` class for a box of 250 hexane molecules. We will provide the experimentally expected density of 659 kg/m^3."
   ]
  },
  {
   "cell_type": "code",
   "execution_count": null,
   "metadata": {},
   "outputs": [],
   "source": [
    "hexane_box = AlkaneBox(chain_length=6, n_chains=250, density=659)"
   ]
  },
  {
   "cell_type": "markdown",
   "metadata": {},
   "source": [
    "...and let's visualize to see how it looks."
   ]
  },
  {
   "cell_type": "code",
   "execution_count": null,
   "metadata": {},
   "outputs": [],
   "source": [
    "hexane_box.visualize()"
   ]
  },
  {
   "cell_type": "markdown",
   "metadata": {},
   "source": [
    "Again we will need to write to both GRO and TOP formats. Regarding force field application, Foyer natively includes two force fields: the OPLS all-atom force field and the TraPPE united-atom force field. Since we have an all-atom system and the OPLS force field is designed for simulations of liquids, we will use that force field by providing the `forcefield_name='oplsaa'` argument when saving to the TOP file."
   ]
  },
  {
   "cell_type": "code",
   "execution_count": null,
   "metadata": {},
   "outputs": [],
   "source": [
    "hexane_box.save('hexane.gro', overwrite=True, residues='Alkane')\n",
    "hexane_box.save('hexane.top', forcefield_name='oplsaa', overwrite=True, residues='Alkane')"
   ]
  },
  {
   "cell_type": "markdown",
   "metadata": {},
   "source": [
    "Again, we will need to run `grompp` to check for errors and to create the binary TPR file. The MDP file we are using is identical to the one used for the water box, except for one additional line:"
   ]
  },
  {
   "cell_type": "code",
   "execution_count": null,
   "metadata": {},
   "outputs": [],
   "source": [
    "!sed -n '7 p' utils/npt-alkane.mdp"
   ]
  },
  {
   "cell_type": "markdown",
   "metadata": {},
   "source": [
    "Here, we are telling GROMACS to constrain the C-H bonds in our system (note that in the simulation of water the bonds and angles were constrained by default, but this default behavior only applies to water). The C-H bonds represent the fastest frequency motions in our system, and thus will be the limiting factor in determining how large we can make our timestep. In the absence of multi-timestep integration methods, another option for facilitating a larger timestep is to apply constraints to these bonds to remove the high frequency motions.\n",
    "\n",
    "**NOTE:** Typically for all-atom simulations, the maximum timestep that can be used is 1fs. However, if hydrogen bonds are constrained, the maximum timestep can usually be increased to 2fs, thus doubling performance.\n",
    "\n",
    "Okay, now let's run `grompp` on our system."
   ]
  },
  {
   "cell_type": "code",
   "execution_count": null,
   "metadata": {},
   "outputs": [],
   "source": [
    "!gmx grompp -v -f npt-alkane.mdp -c hexane.gro -p hexane.top -o npt-hexane"
   ]
  },
  {
   "cell_type": "markdown",
   "metadata": {},
   "source": [
    "If `grompp` was successful, we can now perform the simulation with `mdrun`. Note, this system is a bit larger than the water box, so it will take a bit longer to complete. However, it should still complete within a few minutes."
   ]
  },
  {
   "cell_type": "code",
   "execution_count": null,
   "metadata": {},
   "outputs": [],
   "source": [
    "!gmx mdrun -s npt-hexane.tpr -o -x -deffnm npt-hexane"
   ]
  },
  {
   "cell_type": "markdown",
   "metadata": {},
   "source": [
    "Again, let's extract quantities from the energy file and plot by executing the following two cells."
   ]
  },
  {
   "cell_type": "code",
   "execution_count": null,
   "metadata": {},
   "outputs": [],
   "source": [
    "!echo 11 12 13 18 19\\\\n0 | gmx energy -f npt-hexane.edr -o npt-hexane.xvg"
   ]
  },
  {
   "cell_type": "code",
   "execution_count": null,
   "metadata": {},
   "outputs": [],
   "source": [
    "%matplotlib inline\n",
    "import matplotlib.pyplot as plt\n",
    "import numpy as np\n",
    "\n",
    "data = np.loadtxt('npt-hexane.xvg', skiprows=27)\n",
    "\n",
    "# Strip out the very beginning of the run\n",
    "data = data[10:]\n",
    "\n",
    "fig, ax = plt.subplots(5, 1)\n",
    "\n",
    "properties = ['Total energy, kJ/mol', 'Temperature, K', 'Pressure, atm', 'Volume, nm^3', 'Density, kg/m^3']\n",
    "\n",
    "for i, sub_ax in enumerate(ax):\n",
    "    sub_ax.plot(data[:, 0], data[:, i + 1])\n",
    "    sub_ax.set_title(properties[i])\n",
    "    sub_ax.set_ylabel(properties[i])\n",
    "    \n",
    "fig.subplots_adjust(hspace=1.0)\n",
    "fig.set_size_inches(4, 12)\n",
    "plt.show()"
   ]
  },
  {
   "cell_type": "markdown",
   "metadata": {},
   "source": [
    "Examine the plots above. Has our system reached equilibrium? Does our density match up with what we would expect (659 kg/m^3)?"
   ]
  },
  {
   "cell_type": "code",
   "execution_count": null,
   "metadata": {},
   "outputs": [],
   "source": []
  }
 ],
 "metadata": {
  "kernelspec": {
   "display_name": "Python 3",
   "language": "python",
   "name": "python3"
  },
  "language_info": {
   "codemirror_mode": {
    "name": "ipython",
    "version": 3
   },
   "file_extension": ".py",
   "mimetype": "text/x-python",
   "name": "python",
   "nbconvert_exporter": "python",
   "pygments_lexer": "ipython3",
   "version": "3.5.5"
  }
 },
 "nbformat": 4,
 "nbformat_minor": 2
}
