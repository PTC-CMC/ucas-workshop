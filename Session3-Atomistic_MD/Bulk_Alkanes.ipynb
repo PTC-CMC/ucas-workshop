{
 "cells": [
  {
   "cell_type": "markdown",
   "metadata": {},
   "source": [
    "## Atomistic Molecular Dynamics: Bulk Liquids - Linear Alkanes\n",
    "\n",
    "The second system we will consider for performing atomistic MD is a system of linear alkanes."
   ]
  },
  {
   "cell_type": "markdown",
   "metadata": {},
   "source": [
    "### Build the system\n",
    "\n",
    "Again, we will use mBuild to construct our system.\n",
    "\n",
    "First, we will import mBuild, as well as specify a filter for some warnings that can often clutter the output."
   ]
  },
  {
   "cell_type": "code",
   "execution_count": null,
   "metadata": {},
   "outputs": [],
   "source": [
    "import mbuild as mb\n",
    "import warnings\n",
    "warnings.simplefilter(action='ignore', category=FutureWarning)"
   ]
  },
  {
   "cell_type": "markdown",
   "metadata": {},
   "source": [
    "Now, we will define a class to create a `CH2` moiety, similar to what we did on Monday. Here, we load the structure for a CH2 moeity from a PDB file and add two ports for the two dangling bonds on the carbon."
   ]
  },
  {
   "cell_type": "code",
   "execution_count": null,
   "metadata": {},
   "outputs": [],
   "source": [
    "class CH2(mb.Compound):\n",
    "    def __init__(self):\n",
    "        super(CH2, self).__init__()\n",
    "        mb.load('utils/ch2.pdb', compound=self)\n",
    "        self.add(mb.Port(anchor=self[0], orientation=[0, 1, 0], separation=0.07), 'up')\n",
    "        self.add(mb.Port(anchor=self[0], orientation=[0, -1, 0], separation=0.07), 'down')"
   ]
  },
  {
   "cell_type": "markdown",
   "metadata": {},
   "source": [
    "Let's visualize to make sure it looks okay."
   ]
  },
  {
   "cell_type": "code",
   "execution_count": null,
   "metadata": {},
   "outputs": [],
   "source": [
    "ch2 = CH2()\n",
    "ch2.visualize(show_ports=True)"
   ]
  },
  {
   "cell_type": "markdown",
   "metadata": {},
   "source": [
    "Here, we create a hydrogen atom with a `Port` representing a single dangling bond."
   ]
  },
  {
   "cell_type": "code",
   "execution_count": null,
   "metadata": {},
   "outputs": [],
   "source": [
    "class Hydrogen(mb.Compound):\n",
    "    def __init__(self):\n",
    "        super(Hydrogen, self).__init__()\n",
    "        self.add(mb.Compound(name='H'))\n",
    "        self.add(mb.Port(anchor=self[0], orientation=[0, 1, 0], separation=0.07), 'up')"
   ]
  },
  {
   "cell_type": "markdown",
   "metadata": {},
   "source": []
  },
  {
   "cell_type": "code",
   "execution_count": null,
   "metadata": {},
   "outputs": [],
   "source": [
    "h = Hydrogen()\n",
    "h.visualize(show_ports=True)"
   ]
  },
  {
   "cell_type": "markdown",
   "metadata": {},
   "source": [
    "#### Create class for an alkane chain (with arbitrary length)\n",
    "\n",
    "Here, we define a class that stitches together CH2 moieties into an alkane chain of a user-defined length (hydrogen atoms are used to cap the ends of the chain to provide the complete chemistry)."
   ]
  },
  {
   "cell_type": "code",
   "execution_count": null,
   "metadata": {},
   "outputs": [],
   "source": [
    "class Alkane(mb.Compound):\n",
    "    \"\"\"An alkane chain of a user-defined length.\"\"\"\n",
    "    def __init__(self, chain_length):\n",
    "        \"\"\"Initialize an Alkane Compound.\n",
    "\n",
    "        Parameters\n",
    "        ----------\n",
    "        chain_length : int\n",
    "            Length of the alkane chain (in number of carbons)\n",
    "        \"\"\"\n",
    "        # Make sure the user inputs a chain length of at least 1\n",
    "        if chain_length < 1:\n",
    "            raise ValueError('Chain length must be greater than 1')\n",
    "        \n",
    "        super(Alkane, self).__init__()\n",
    "\n",
    "        # Create a polymer of CH2 units\n",
    "        chain = mb.Polymer(CH2(), n=chain_length, port_labels=('up', 'down'))\n",
    "        self.add(chain, 'chain')\n",
    "        \n",
    "        # Cap one end of the polymer with a hydrogen\n",
    "        self.add(Hydrogen(), 'up_cap')\n",
    "        mb.force_overlap(move_this=self['up_cap'],\n",
    "                         from_positions=self['up_cap']['up'],\n",
    "                         to_positions=self['chain']['up'])\n",
    "        \n",
    "        # Cap the other end of the polymer with a hydrogen\n",
    "        self.add(Hydrogen(), 'down_cap')\n",
    "        mb.force_overlap(move_this=self['down_cap'],\n",
    "                         from_positions=self['down_cap']['up'],\n",
    "                         to_positions=self['chain']['down'])"
   ]
  },
  {
   "cell_type": "markdown",
   "metadata": {},
   "source": []
  },
  {
   "cell_type": "code",
   "execution_count": null,
   "metadata": {},
   "outputs": [],
   "source": [
    "methane = Alkane(1)              # Create an alkane with chain length of 1, i.e. methane\n",
    "methane.energy_minimization()    # Energy minimize so that the structure appears reasonable\n",
    "methane.visualize()"
   ]
  },
  {
   "cell_type": "markdown",
   "metadata": {},
   "source": []
  },
  {
   "cell_type": "code",
   "execution_count": null,
   "metadata": {},
   "outputs": [],
   "source": [
    "hexane = Alkane(6)              # Create an alkane with chain length of 6, i.e. hexane\n",
    "hexane.energy_minimization()    # Energy minimize so that the structure appears reasonable\n",
    "hexane.visualize()"
   ]
  },
  {
   "cell_type": "markdown",
   "metadata": {},
   "source": [
    "#### Create class for a box of alkane chains\n",
    "\n",
    "Description"
   ]
  },
  {
   "cell_type": "code",
   "execution_count": null,
   "metadata": {},
   "outputs": [],
   "source": [
    "class AlkaneBox(mb.Compound):\n",
    "    \"\"\"An box of linear alkane chains.\"\"\"\n",
    "    def __init__(self, chain_length, n_chains, density):\n",
    "        \"\"\"Initialize an AlkaneBox Compound.\n",
    "\n",
    "        Parameters\n",
    "        ----------\n",
    "        chain_length : int\n",
    "            Length of the alkane chains (in number of carbons)\n",
    "        n_chains : int\n",
    "            Number of chains to place in the box\n",
    "        density : float\n",
    "            Density (in kg/m^3) at which the system should be created\n",
    "        \"\"\"\n",
    "        super(AlkaneBox, self).__init__()\n",
    "        \n",
    "        # Create alkane chain prototype using the class above\n",
    "        chain = Alkane(chain_length=chain_length)\n",
    "        \n",
    "        # Generate a more relaxed structure\n",
    "        chain.energy_minimization()\n",
    "        \n",
    "        # Fill a box with chains at a user-defined density\n",
    "        box_of_alkanes = mb.fill_box(compound=chain, n_compounds=n_chains,\n",
    "                                     density=density)\n",
    "        \n",
    "        # Rename all chains to `Alkane`, this speeds up the atom-typing process\n",
    "        for child in box_of_alkanes.children:\n",
    "            child.name = 'Alkane'\n",
    "        self.add(box_of_alkanes)"
   ]
  },
  {
   "cell_type": "code",
   "execution_count": null,
   "metadata": {},
   "outputs": [],
   "source": [
    "hexane_box = AlkaneBox(chain_length=6, n_chains=250, density=659)"
   ]
  },
  {
   "cell_type": "code",
   "execution_count": null,
   "metadata": {},
   "outputs": [],
   "source": [
    "hexane_box.visualize()"
   ]
  },
  {
   "cell_type": "code",
   "execution_count": null,
   "metadata": {},
   "outputs": [],
   "source": [
    "hexane_box.save('hexane.gro', overwrite=True, residues='Alkane')\n",
    "hexane_box.save('hexane.top', forcefield_name='oplsaa', overwrite=True, residues='Alkane')"
   ]
  },
  {
   "cell_type": "code",
   "execution_count": null,
   "metadata": {},
   "outputs": [],
   "source": [
    "!gmx grompp -v -f npt-eq-alkane.mdp -c hexane.gro -p hexane.top -o npt-eq-hexane"
   ]
  },
  {
   "cell_type": "code",
   "execution_count": null,
   "metadata": {},
   "outputs": [],
   "source": [
    "!gmx mdrun -s npt-eq-hexane.tpr -o -x -deffnm npt-eq-hexane"
   ]
  },
  {
   "cell_type": "code",
   "execution_count": null,
   "metadata": {},
   "outputs": [],
   "source": [
    "!echo 11 12 13 18 19\\\\n0 | gmx energy -f npt-eq-hexane.edr -o npt-eq-hexane.xvg"
   ]
  },
  {
   "cell_type": "code",
   "execution_count": null,
   "metadata": {},
   "outputs": [],
   "source": [
    "%matplotlib inline\n",
    "import matplotlib.pyplot as plt\n",
    "import numpy as np\n",
    "\n",
    "data = np.loadtxt('npt-eq-hexane.xvg', skiprows=27)\n",
    "\n",
    "# Strip out the very beginning of the run\n",
    "data = data[10:]\n",
    "\n",
    "fig, ax = plt.subplots(5, 1)\n",
    "\n",
    "properties = ['Total energy, kJ/mol', 'Temperature, K', 'Pressure, atm', 'Volume, nm^3', 'Density, kg/m^3']\n",
    "\n",
    "for i, sub_ax in enumerate(ax):\n",
    "    sub_ax.plot(data[:, 0], data[:, i + 1])\n",
    "    sub_ax.set_title(properties[i])\n",
    "    sub_ax.set_ylabel(properties[i])\n",
    "    \n",
    "fig.subplots_adjust(hspace=1.0)\n",
    "fig.set_size_inches(4, 12)\n",
    "plt.show()"
   ]
  },
  {
   "cell_type": "code",
   "execution_count": null,
   "metadata": {},
   "outputs": [],
   "source": [
    "!gmx grompp -v -f npt-prod-alkane.mdp -c npt-eq-hexane.gro -p hexane.top -o npt-prod-hexane"
   ]
  },
  {
   "cell_type": "code",
   "execution_count": 1,
   "metadata": {},
   "outputs": [
    {
     "name": "stdout",
     "output_type": "stream",
     "text": [
      "                   :-) GROMACS - gmx mdrun, VERSION 5.1.1 (-:\n",
      "\n",
      "                            GROMACS is written by:\n",
      "     Emile Apol      Rossen Apostolov  Herman J.C. Berendsen    Par Bjelkmar   \n",
      " Aldert van Buuren   Rudi van Drunen     Anton Feenstra   Sebastian Fritsch \n",
      "  Gerrit Groenhof   Christoph Junghans   Anca Hamuraru    Vincent Hindriksen\n",
      " Dimitrios Karkoulis    Peter Kasson        Jiri Kraus      Carsten Kutzner  \n",
      "    Per Larsson      Justin A. Lemkul   Magnus Lundborg   Pieter Meulenhoff \n",
      "   Erik Marklund      Teemu Murtola       Szilard Pall       Sander Pronk   \n",
      "   Roland Schulz     Alexey Shvetsov     Michael Shirts     Alfons Sijbers  \n",
      "   Peter Tieleman    Teemu Virolainen  Christian Wennberg    Maarten Wolf   \n",
      "                           and the project leaders:\n",
      "        Mark Abraham, Berk Hess, Erik Lindahl, and David van der Spoel\n",
      "\n",
      "Copyright (c) 1991-2000, University of Groningen, The Netherlands.\n",
      "Copyright (c) 2001-2015, The GROMACS development team at\n",
      "Uppsala University, Stockholm University and\n",
      "the Royal Institute of Technology, Sweden.\n",
      "check out http://www.gromacs.org for more information.\n",
      "\n",
      "GROMACS is free software; you can redistribute it and/or modify it\n",
      "under the terms of the GNU Lesser General Public License\n",
      "as published by the Free Software Foundation; either version 2.1\n",
      "of the License, or (at your option) any later version.\n",
      "\n",
      "GROMACS:      gmx mdrun, VERSION 5.1.1\n",
      "Executable:   /usr/local/gromacs/bin/gmx\n",
      "Data prefix:  /usr/local/gromacs\n",
      "Command line:\n",
      "  gmx mdrun -v -s npt-prod-hexane.tpr -o -x -deffnm npt-prod-hexane\n",
      "\n",
      "\n",
      "Back Off! I just backed up npt-prod-hexane.log to ./#npt-prod-hexane.log.2#\n",
      "\n",
      "Running on 1 node with total 4 logical cores\n",
      "Hardware detected:\n",
      "  CPU info:\n",
      "    Vendor: GenuineIntel\n",
      "    Brand:  Intel(R) Core(TM) i7-3520M CPU @ 2.90GHz\n",
      "    SIMD instructions most likely to fit this hardware: AVX_256\n",
      "    SIMD instructions selected at GROMACS compile time: AVX_256\n",
      "\n",
      "Reading file npt-prod-hexane.tpr, VERSION 5.1.1 (single precision)\n",
      "Can not increase nstlist because verlet-buffer-tolerance is not set or used\n",
      "Using 4 MPI threads\n",
      "\n",
      "Back Off! I just backed up npt-prod-hexane.xtc to ./#npt-prod-hexane.xtc.2#\n",
      "\n",
      "Back Off! I just backed up npt-prod-hexane.edr to ./#npt-prod-hexane.edr.2#\n",
      "starting mdrun 'Generic title'\n",
      "125000 steps,    250.0 ps.\n",
      "step 0\n",
      "NOTE: Turning on dynamic load balancing\n",
      "\n",
      "step 15600, will finish Thu Jun 21 02:10:02 2018l 0.91  imb F  6% vol 0.96  imb F  2% vol 0.97  imb F  3% vol 0.96  imb F  2% vol 0.80  imb F 13% vol 0.94  imb F  4% vol 0.98  imb F  4% vol 0.96  imb F  2% vol 0.98  imb F  6% vol 0.95  imb F  2% vol 0.97  imb F  3% vol 0.99  imb F  4% vol 0.97  imb F  1% vol 0.94  imb F  1% vol 0.95  imb F  4% vol 0.96  imb F  5% vol 0.95  imb F  7% vol 0.96  imb F  5% vol 0.97  imb F  5% vol 0.97  imb F  2% vol 0.94  imb F  6% vol 0.96  imb F  9% vol 0.98  imb F  4% vol 0.99  imb F  3% vol 0.97  imb F  4% vol 0.97  imb F  5% vol 0.96  imb F  3% vol 0.90  imb F  3% vol 0.96  imb F  2% vol 0.87  imb F  7% vol 0.97  imb F  3% vol 0.97  imb F  3% vol 0.98  imb F  2% vol 0.96  imb F  5% vol 0.94  imb F  6% vol 0.95  imb F  6% vol 0.92  imb F  5% vol 0.90  imb F  4% vol 0.89  imb F  4% vol 0.92  imb F  9% vol 0.91  imb F  9% vol 0.95  imb F  5% vol 0.95  imb F  3% vol 0.95  imb F  4% vol 0.98  imb F  5% vol 0.95  imb F  2% vol 0.99  imb F  5% vol 0.97  imb F  2% vol 0.93  imb F  8% vol 0.96  imb F  6% vol 0.92  imb F  5% vol 0.97  imb F  2% vol 0.95  imb F  5% vol 0.98  imb F 12% vol 0.94  imb F  4% vol 0.97  imb F  5% vol 0.89  imb F 11% vol 0.94  imb F  7% vol 0.94  imb F  3% vol 0.88  imb F  6% vol 0.89  imb F  9% vol 0.96  imb F 22% vol 0.94  imb F  8% vol 0.90  imb F 12% vol 0.94  imb F  3% vol 0.89  imb F  3% vol 0.95  imb F  3% vol 0.93  imb F  5% vol 0.92  imb F  7% vol 0.95  imb F  5% vol 0.92  imb F  6% vol 0.92  imb F  7% vol 0.94  imb F  3% vol 0.92  imb F  3% vol 0.95  imb F  2% vol 0.95  imb F  2% vol 0.94  imb F  3% vol 0.95  imb F  2% vol 0.95  imb F  4% vol 0.97  imb F  1% vol 0.92  imb F  4% vol 0.98  imb F  3% vol 0.96  imb F  4% vol 0.98  imb F  3% vol 0.97  imb F  3% vol 0.99  imb F  3% vol 0.94  imb F  4% vol 0.98  imb F  4% vol 0.94  imb F  1% vol 0.94  imb F  6% vol 0.95  imb F  3% vol 0.98  imb F  1% vol 0.97  imb F  2% vol 0.96  imb F  4% vol 0.94  imb F  3% vol 0.95  imb F  3% vol 0.97  imb F  3% vol 0.88  imb F 12% vol 0.94  imb F  5% vol 0.90  imb F  2% vol 0.93  imb F  3% vol 0.91  imb F  7% vol 0.90  imb F  5% vol 0.92  imb F  3% vol 0.95  imb F  2% vol 0.94  imb F  1% vol 0.96  imb F  4% vol 0.92  imb F  2% vol 0.93  imb F  4% vol 0.94  imb F  5% vol 0.94  imb F  3% vol 0.92  imb F  5% vol 0.93  imb F  5% vol 0.93  imb F  3% vol 0.94  imb F  1% vol 0.94  imb F  2% vol 0.95  imb F  3% vol 0.93  imb F  3% vol 0.92  imb F  8% vol 0.93  imb F  8% vol 0.93  imb F  4% vol 0.93  imb F  6% vol 0.92  imb F  2% vol 0.91  imb F  4% vol 0.92  imb F  3% vol 0.92  imb F  1% vol 0.92  imb F  4% vol 0.93  imb F  6% vol 0.93  imb F  4% vol 0.97  imb F  4% vol 0.87  imb F  5% vol 0.96  imb F  2% vol 0.93  imb F  3% vol 0.93  imb F  7% vol 0.91  imb F  4% vol 0.94  imb F  2% vol 0.88  imb F  2% vol 0.92  imb F  7% vol 0.92  imb F  3% vol 0.95  imb F  5% vol 0.90  imb F  5% vol 0.93  imb F  3% vol 0.88  imb F  5% vol 0.92  imb F  4% vol 0.94  imb F  4% vol 0.87  imb F  3% vol 0.93  imb F  3% vol 0.93  imb F  1% vol 0.94  imb F  7% vol 0.96  imb F  5% vol 0.96  imb F  9% vol 0.93  imb F  2% vol 0.92  imb F  6% vol 0.92  imb F  2% vol 0.94  imb F  1% \n",
      "Step 15646, time 31.292 (ps)  LINCS WARNING\n",
      "relative constraint deviation after LINCS:\n",
      "rms 0.000016, max 0.000364 (between atoms 769 and 767)\n",
      "bonds that rotated more than 30 degrees:\n",
      " atom 1 atom 2  angle  previous, current, constraint length\n",
      "    768    767   31.1    0.1090   0.1090      0.1090\n",
      "\n",
      "Step 15647, time 31.294 (ps)  LINCS WARNING\n",
      "relative constraint deviation after LINCS:\n",
      "rms 0.000033, max 0.000938 (between atoms 769 and 767)\n",
      "bonds that rotated more than 30 degrees:\n",
      " atom 1 atom 2  angle  previous, current, constraint length\n",
      "\n",
      "Step 15667, time 31.334 (ps)  LINCS WARNING\n",
      "relative constraint deviation after LINCS:\n",
      "rms 0.000012, max 0.000220 (between atoms 765 and 764)\n",
      "bonds that rotated more than 30 degrees:\n",
      " atom 1 atom 2  angle  previous, current, constraint length\n",
      "    766    764   30.7    0.1090   0.1090      0.1090\n",
      "\n",
      "Step 15675, time 31.35 (ps)  LINCS WARNING\n",
      "relative constraint deviation after LINCS:\n",
      "rms 0.000076, max 0.002165 (between atoms 764 and 766)\n",
      "bonds that rotated more than 30 degrees:\n",
      " atom 1 atom 2  angle  previous, current, constraint length\n",
      "    768    767   30.3    0.1091   0.1091      0.1090\n",
      "\n",
      "Step 15677, time 31.354 (ps)  LINCS WARNING\n",
      "relative constraint deviation after LINCS:\n",
      "rms 2.468362, max 72.491730 (between atoms 765 and 764)\n",
      "bonds that rotated more than 30 degrees:\n",
      " atom 1 atom 2  angle  previous, current, constraint length\n",
      "    765    764   92.1    0.1091   8.0106      0.1090\n",
      "\n",
      "Step 15677, time 31.354 (ps)  LINCS WARNING\n",
      "relative constraint deviation after LINCS:\n",
      "rms 2.363109, max 71.148773 (between atoms 768 and 767)\n",
      "bonds that rotated more than 30 degrees:\n",
      " atom 1 atom 2  angle  previous, current, constraint length\n",
      "    769    767   69.1    0.1089   0.1017      0.1090\n",
      "    768    767   93.8    0.1090   7.8642      0.1090\n",
      "    764    765   92.1    0.1091   8.0106      0.1090\n",
      "Wrote pdb files with previous and current coordinates\n",
      "Wrote pdb files with previous and current coordinates\n",
      "\n",
      "WARNING: Listed nonbonded interaction between particles 768 and 771\n",
      "at distance 8.021 which is larger than the table limit 2.150 nm.\n",
      "\n",
      "This is likely either a 1,4 interaction, or a listed interaction inside\n",
      "a smaller molecule you are decoupling during a free energy calculation.\n",
      "Since interactions at distances beyond the table cannot be computed,\n",
      "they are skipped until they are inside the table limit again. You will\n",
      "only see this message once, even if it occurs for several interactions.\n",
      "\n",
      "IMPORTANT: This should not happen in a stable simulation, so there is\n",
      "probably something wrong with your system. Only change the table-extension\n",
      "distance in the mdp file if you are really sure that is the reason.\n",
      "\n",
      "\n",
      "\n",
      "Step 15678, time 31.356 (ps)  LINCS WARNING\n",
      "relative constraint deviation after LINCS:\n",
      "rms 5.052199, max 148.374741 (between atoms 765 and 764)\n",
      "bonds that rotated more than 30 degrees:\n",
      " atom 1 atom 2  angle  previous, current, constraint length\n",
      "\n",
      "Step 15678, time 31.356 (ps)  LINCS WARNING\n",
      "relative constraint deviation after LINCS:\n",
      "rms 5.162524, max 155.433823 (between atoms 768 and 767)\n",
      "bonds that rotated more than 30 degrees:\n",
      " atom 1 atom 2  angle  previous, current, constraint length\n",
      "    769    767   90.0    0.1017   0.1326      0.1090\n",
      "Wrote pdb files with previous and current coordinates\n",
      "Wrote pdb files with previous and current coordinates\n"
     ]
    }
   ],
   "source": [
    "!gmx mdrun -v -s npt-prod-hexane.tpr -o -x -deffnm npt-prod-hexane"
   ]
  },
  {
   "cell_type": "code",
   "execution_count": 3,
   "metadata": {},
   "outputs": [
    {
     "name": "stdout",
     "output_type": "stream",
     "text": [
      "                  :-) GROMACS - gmx energy, VERSION 5.1.1 (-:\r\n",
      "\r\n",
      "                            GROMACS is written by:\r\n",
      "     Emile Apol      Rossen Apostolov  Herman J.C. Berendsen    Par Bjelkmar   \r\n",
      " Aldert van Buuren   Rudi van Drunen     Anton Feenstra   Sebastian Fritsch \r\n",
      "  Gerrit Groenhof   Christoph Junghans   Anca Hamuraru    Vincent Hindriksen\r\n",
      " Dimitrios Karkoulis    Peter Kasson        Jiri Kraus      Carsten Kutzner  \r\n",
      "    Per Larsson      Justin A. Lemkul   Magnus Lundborg   Pieter Meulenhoff \r\n",
      "   Erik Marklund      Teemu Murtola       Szilard Pall       Sander Pronk   \r\n",
      "   Roland Schulz     Alexey Shvetsov     Michael Shirts     Alfons Sijbers  \r\n",
      "   Peter Tieleman    Teemu Virolainen  Christian Wennberg    Maarten Wolf   \r\n",
      "                           and the project leaders:\r\n",
      "        Mark Abraham, Berk Hess, Erik Lindahl, and David van der Spoel\r\n",
      "\r\n",
      "Copyright (c) 1991-2000, University of Groningen, The Netherlands.\r\n",
      "Copyright (c) 2001-2015, The GROMACS development team at\r\n",
      "Uppsala University, Stockholm University and\r\n",
      "the Royal Institute of Technology, Sweden.\r\n",
      "check out http://www.gromacs.org for more information.\r\n",
      "\r\n",
      "GROMACS is free software; you can redistribute it and/or modify it\r\n",
      "under the terms of the GNU Lesser General Public License\r\n",
      "as published by the Free Software Foundation; either version 2.1\r\n",
      "of the License, or (at your option) any later version.\r\n",
      "\r\n",
      "GROMACS:      gmx energy, VERSION 5.1.1\r\n",
      "Executable:   /usr/local/gromacs/bin/gmx\r\n",
      "Data prefix:  /usr/local/gromacs\r\n",
      "Command line:\r\n",
      "  gmx energy -f npt-prod-hexane.edr -o npt-prod-hexane.xvg\r\n",
      "\r\n",
      "Opened npt-prod-hexane.edr as single precision energy file\r\n",
      "\r\n",
      "Select the terms you want from the following list by\r\n",
      "selecting either (part of) the name or the number or a combination.\r\n",
      "End your selection with an empty line or a zero.\r\n",
      "-------------------------------------------------------------------\r\n",
      "  1  Bond             2  Angle            3  Ryckaert-Bell.   4  LJ-14         \r\n",
      "  5  Coulomb-14       6  LJ-(SR)          7  Coulomb-(SR)     8  Coul.-recip.  \r\n",
      "  9  Potential       10  Kinetic-En.     11  Total-Energy    12  Temperature   \r\n",
      " 13  Pressure        14  Constr.-rmsd    15  Box-X           16  Box-Y         \r\n",
      " 17  Box-Z           18  Volume          19  Density         20  pV            \r\n",
      " 21  Enthalpy        22  Vir-XX          23  Vir-XY          24  Vir-XZ        \r\n",
      " 25  Vir-YX          26  Vir-YY          27  Vir-YZ          28  Vir-ZX        \r\n",
      " 29  Vir-ZY          30  Vir-ZZ          31  Pres-XX         32  Pres-XY       \r\n",
      " 33  Pres-XZ         34  Pres-YX         35  Pres-YY         36  Pres-YZ       \r\n",
      " 37  Pres-ZX         38  Pres-ZY         39  Pres-ZZ         40  #Surf*SurfTen \r\n",
      " 41  Box-Vel-XX      42  Box-Vel-YY      43  Box-Vel-ZZ      44  T-System      \r\n",
      " 45  Lamb-System   \r\n",
      "\r\n",
      "\r\n",
      "Back Off! I just backed up npt-prod-hexane.xvg to ./#npt-prod-hexane.xvg.1#\r\n",
      "\r",
      "Reading energy frame      0 time    0.000         \r",
      "Reading energy frame      1 time    0.100         \r",
      "Reading energy frame      2 time    0.200         \r",
      "Reading energy frame      3 time    0.300         \r",
      "Reading energy frame      4 time    0.400         \r",
      "Reading energy frame      5 time    0.500         \r",
      "Reading energy frame      6 time    0.600         \r",
      "Reading energy frame      7 time    0.700         \r",
      "Reading energy frame      8 time    0.800         \r",
      "Reading energy frame      9 time    0.900         \r",
      "Reading energy frame     10 time    1.000         \r",
      "Reading energy frame     11 time    1.100         \r",
      "Reading energy frame     12 time    1.200         \r",
      "Reading energy frame     13 time    1.300         \r",
      "Reading energy frame     14 time    1.400         \r",
      "Reading energy frame     15 time    1.500         \r",
      "Reading energy frame     16 time    1.600         \r",
      "Reading energy frame     17 time    1.700         \r",
      "Reading energy frame     18 time    1.800         \r",
      "Reading energy frame     19 time    1.900         \r",
      "Reading energy frame     20 time    2.000         \r",
      "Reading energy frame     30 time    3.000         \r",
      "Reading energy frame     40 time    4.000         \r",
      "Reading energy frame     50 time    5.000         \r",
      "Reading energy frame     60 time    6.000         \r",
      "Reading energy frame     70 time    7.000         \r",
      "Reading energy frame     80 time    8.000         \r",
      "Reading energy frame     90 time    9.000         \r",
      "Reading energy frame    100 time   10.000         \r",
      "Reading energy frame    110 time   11.000         \r",
      "Reading energy frame    120 time   12.000         \r",
      "Reading energy frame    130 time   13.000         \r",
      "Reading energy frame    140 time   14.000         \r",
      "Reading energy frame    150 time   15.000         \r",
      "Reading energy frame    160 time   16.000         \r",
      "Reading energy frame    170 time   17.000         \r",
      "Reading energy frame    180 time   18.000         \r",
      "Reading energy frame    190 time   19.000         \r",
      "Reading energy frame    200 time   20.000         \r",
      "Reading energy frame    300 time   30.000         \r",
      "Last energy frame read 313 time   31.300         \r\n",
      "\r\n",
      "Statistics over 15651 steps [ 0.0000 through 31.3000 ps ], 5 data sets\r\n",
      "All statistics are over 314 points (frames)\r\n",
      "\r\n",
      "Energy                      Average   Err.Est.       RMSD  Tot-Drift\r\n",
      "-------------------------------------------------------------------------------\r\n",
      "Total Energy                24818.1        190    682.984   -882.268  (kJ/mol)\r\n",
      "Temperature                 309.256        2.5    9.34459    1.24414  (K)\r\n",
      "Pressure                   -62.8018        190    1089.79    998.352  (bar)\r\n",
      "Volume                      51.7993        1.2    2.64781   -4.58002  (nm^3)\r\n",
      "Density                     692.351         15    33.5405    56.3458  (kg/m^3)\r\n",
      "\r\n",
      "gcq#57: \"I Could Take You Home and Abuse You\" (Magnapop)\r\n",
      "\r\n"
     ]
    }
   ],
   "source": [
    "!echo 11 12 13 18 19\\\\n0 | gmx energy -f npt-prod-hexane.edr -o npt-prod-hexane.xvg"
   ]
  },
  {
   "cell_type": "code",
   "execution_count": 4,
   "metadata": {},
   "outputs": [
    {
     "data": {
      "image/png": "[encoded data removed]",
      "text/plain": [
       "<Figure size 288x864 with 5 Axes>"
      ]
     },
     "metadata": {},
     "output_type": "display_data"
    }
   ],
   "source": [
    "%matplotlib inline\n",
    "import matplotlib.pyplot as plt\n",
    "import numpy as np\n",
    "\n",
    "data = np.loadtxt('npt-prod-hexane.xvg', skiprows=27)\n",
    "\n",
    "fig, ax = plt.subplots(5, 1)\n",
    "\n",
    "properties = ['Total energy, kJ/mol', 'Temperature, K', 'Pressure, atm', 'Volume, nm^3', 'Density, kg/m^3']\n",
    "\n",
    "for i, sub_ax in enumerate(ax):\n",
    "    sub_ax.plot(data[:, 0], data[:, i + 1])\n",
    "    sub_ax.set_title(properties[i])\n",
    "    sub_ax.set_ylabel(properties[i])\n",
    "    \n",
    "fig.subplots_adjust(hspace=1.0)\n",
    "fig.set_size_inches(4, 12)\n",
    "plt.show()"
   ]
  },
  {
   "cell_type": "code",
   "execution_count": null,
   "metadata": {},
   "outputs": [],
   "source": []
  }
 ],
 "metadata": {
  "kernelspec": {
   "display_name": "Python 3",
   "language": "python",
   "name": "python3"
  },
  "language_info": {
   "codemirror_mode": {
    "name": "ipython",
    "version": 3
   },
   "file_extension": ".py",
   "mimetype": "text/x-python",
   "name": "python",
   "nbconvert_exporter": "python",
   "pygments_lexer": "ipython3",
   "version": "3.5.5"
  }
 },
 "nbformat": 4,
 "nbformat_minor": 2
}
