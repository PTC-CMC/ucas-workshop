{
 "cells": [
  {
   "cell_type": "markdown",
   "metadata": {},
   "source": [
    "## Atomistic Molecular Dynamics: Bulk Liquids - Linear Alkanes\n",
    "\n",
    "This workshop session will involve performing atomistic molecular dynamics of bulk liquid systems. The first system we will consider is a bulk system of linear alkanes."
   ]
  },
  {
   "cell_type": "markdown",
   "metadata": {},
   "source": [
    "### Build the system\n",
    "\n",
    "Before we can run a simulation, we need to construct the system we wish to simulate. Over the next few blocks of code we will be using mBuild to accomplish this.\n",
    "\n",
    "First, we will import mBuild, as well as specify a filter for some warnings that can often clutter the output."
   ]
  },
  {
   "cell_type": "code",
   "execution_count": null,
   "metadata": {},
   "outputs": [],
   "source": [
    "import mbuild as mb\n",
    "import warnings\n",
    "warnings.simplefilter(action='ignore', category=FutureWarning)"
   ]
  },
  {
   "cell_type": "markdown",
   "metadata": {},
   "source": [
    "#### Create class for a CH2 moiety\n",
    "\n",
    "Now, we will define a class to create a `CH2` moiety, similar to what we did on Monday. Here, we load the structure for a CH2 moeity from a PDB file and add two ports for the two dangling bonds on the carbon."
   ]
  },
  {
   "cell_type": "code",
   "execution_count": null,
   "metadata": {},
   "outputs": [],
   "source": [
    "class CH2(mb.Compound):\n",
    "    def __init__(self):\n",
    "        super(CH2, self).__init__()\n",
    "        mb.load('utils/ch2.pdb', compound=self)\n",
    "        self.add(mb.Port(anchor=self[0], orientation=[0, 1, 0], separation=0.07), 'up')\n",
    "        self.add(mb.Port(anchor=self[0], orientation=[0, -1, 0], separation=0.07), 'down')"
   ]
  },
  {
   "cell_type": "code",
   "execution_count": null,
   "metadata": {},
   "outputs": [],
   "source": [
    "ch2 = CH2()\n",
    "ch2.visualize(show_ports=True)"
   ]
  },
  {
   "cell_type": "markdown",
   "metadata": {},
   "source": [
    "#### Create class for a hydrogen atom\n",
    "\n",
    "Here, we create a hydrogen atom with a `Port` representing a single dangling bond."
   ]
  },
  {
   "cell_type": "code",
   "execution_count": null,
   "metadata": {},
   "outputs": [],
   "source": [
    "class Hydrogen(mb.Compound):\n",
    "    def __init__(self):\n",
    "        super(Hydrogen, self).__init__()\n",
    "        self.add(mb.Compound(name='H'))\n",
    "        self.add(mb.Port(anchor=self[0], orientation=[0, 1, 0], separation=0.07), 'up')"
   ]
  },
  {
   "cell_type": "code",
   "execution_count": null,
   "metadata": {},
   "outputs": [],
   "source": [
    "h = Hydrogen()\n",
    "h.visualize(show_ports=True)"
   ]
  },
  {
   "cell_type": "markdown",
   "metadata": {},
   "source": [
    "#### Create class for an alkane chain (with arbitrary length)\n",
    "\n",
    "Here, we define a class that stitches together CH2 moieties into an alkane chain of a user-defined length (hydrogen atoms are used to cap the ends of the chain to provide the complete chemistry)."
   ]
  },
  {
   "cell_type": "code",
   "execution_count": null,
   "metadata": {},
   "outputs": [],
   "source": [
    "class Alkane(mb.Compound):\n",
    "    \"\"\"An alkane chain of a user-defined length.\"\"\"\n",
    "    def __init__(self, chain_length):\n",
    "        \"\"\"Initialize an Alkane Compound.\n",
    "\n",
    "        Parameters\n",
    "        ----------\n",
    "        chain_length : int\n",
    "            Length of the alkane chain (in number of carbons)\n",
    "        \"\"\"\n",
    "        # Make sure the user inputs a chain length of at least 1\n",
    "        if chain_length < 1:\n",
    "            raise ValueError('Chain length must be greater than 1')\n",
    "        \n",
    "        super(Alkane, self).__init__()\n",
    "\n",
    "        # Create a polymer of CH2 units\n",
    "        chain = mb.Polymer(CH2(), n=chain_length, port_labels=('up', 'down'))\n",
    "        self.add(chain, 'chain')\n",
    "        \n",
    "        # Cap one end of the polymer with a hydrogen\n",
    "        self.add(Hydrogen(), 'up_cap')\n",
    "        mb.force_overlap(move_this=self['up_cap'],\n",
    "                         from_positions=self['up_cap']['up'],\n",
    "                         to_positions=self['chain']['up'])\n",
    "        \n",
    "        # Cap the other end of the polymer with a hydrogen\n",
    "        self.add(Hydrogen(), 'down_cap')\n",
    "        mb.force_overlap(move_this=self['down_cap'],\n",
    "                         from_positions=self['down_cap']['up'],\n",
    "                         to_positions=self['chain']['down'])"
   ]
  },
  {
   "cell_type": "code",
   "execution_count": null,
   "metadata": {},
   "outputs": [],
   "source": [
    "methane = Alkane(1)              # Create an alkane with chain length of 1, i.e. methane\n",
    "methane.energy_minimization()    # Energy minimize so that the structure appears reasonable\n",
    "methane.visualize()"
   ]
  },
  {
   "cell_type": "code",
   "execution_count": null,
   "metadata": {},
   "outputs": [],
   "source": [
    "hexane = Alkane(6)              # Create an alkane with chain length of 6, i.e. hexane\n",
    "hexane.energy_minimization()    # Energy minimize so that the structure appears reasonable\n",
    "hexane.visualize()"
   ]
  },
  {
   "cell_type": "markdown",
   "metadata": {},
   "source": [
    "#### Create class for a box of alkane chains\n",
    "\n",
    "Description"
   ]
  },
  {
   "cell_type": "code",
   "execution_count": null,
   "metadata": {},
   "outputs": [],
   "source": [
    "class AlkaneBox(mb.Compound):\n",
    "    \"\"\"An box of linear alkane chains.\"\"\"\n",
    "    def __init__(self, chain_length, n_chains, density):\n",
    "        \"\"\"Initialize an AlkaneBox Compound.\n",
    "\n",
    "        Parameters\n",
    "        ----------\n",
    "        chain_length : int\n",
    "            Length of the alkane chains (in number of carbons)\n",
    "        n_chains : int\n",
    "            Number of chains to place in the box\n",
    "        density : float\n",
    "            Density (in kg/m^3) at which the system should be created\n",
    "        \"\"\"\n",
    "        super(AlkaneBox, self).__init__()\n",
    "        \n",
    "        # Create alkane chain prototype using the class above\n",
    "        chain = Alkane(chain_length=chain_length)\n",
    "        \n",
    "        # Generate a more relaxed structure\n",
    "        chain.energy_minimization()\n",
    "        \n",
    "        # Fill a box with chains at a user-defined density\n",
    "        box_of_alkanes = mb.fill_box(compound=chain, n_compounds=n_chains,\n",
    "                                     density=density)\n",
    "        \n",
    "        # Rename all chains to `Alkane`, this speeds up the atom-typing process\n",
    "        for child in box_of_alkanes.children:\n",
    "            child.name = 'Alkane'\n",
    "        self.add(box_of_alkanes)"
   ]
  },
  {
   "cell_type": "code",
   "execution_count": null,
   "metadata": {},
   "outputs": [],
   "source": []
  },
  {
   "cell_type": "markdown",
   "metadata": {},
   "source": [
    "Now let's view our systems using the Visual Molecular Dynamics (VMD) program. We will not be able to open this program from within the notebook, so you will need to open a new Terminal session.\n",
    "\n",
    "`pbc box`\n",
    "\n",
    "`pbc wrap -compound res -all`"
   ]
  },
  {
   "cell_type": "code",
   "execution_count": null,
   "metadata": {},
   "outputs": [],
   "source": []
  }
 ],
 "metadata": {
  "kernelspec": {
   "display_name": "Python 3",
   "language": "python",
   "name": "python3"
  },
  "language_info": {
   "codemirror_mode": {
    "name": "ipython",
    "version": 3
   },
   "file_extension": ".py",
   "mimetype": "text/x-python",
   "name": "python",
   "nbconvert_exporter": "python",
   "pygments_lexer": "ipython3",
   "version": "3.5.5"
  }
 },
 "nbformat": 4,
 "nbformat_minor": 2
}
