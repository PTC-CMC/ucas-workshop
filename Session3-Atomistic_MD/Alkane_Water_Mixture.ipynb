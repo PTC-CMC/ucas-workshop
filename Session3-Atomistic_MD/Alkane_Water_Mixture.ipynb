{
 "cells": [
  {
   "cell_type": "code",
   "execution_count": 8,
   "metadata": {},
   "outputs": [],
   "source": [
    "import mbuild as mb\n",
    "import warnings\n",
    "warnings.simplefilter(action='ignore', category=FutureWarning)\n",
    "\n",
    "from utils import Alkane, H2O"
   ]
  },
  {
   "cell_type": "code",
   "execution_count": 16,
   "metadata": {},
   "outputs": [],
   "source": [
    "class MixtureBox(mb.Compound):\n",
    "    \"\"\"An box of linear alkane chains and water.\"\"\"\n",
    "    def __init__(self, chain_length, n_chains, n_water, alkane_density):\n",
    "        \"\"\"Initialize an AlkaneBox Compound.\n",
    "\n",
    "        Parameters\n",
    "        ----------\n",
    "        chain_length : int\n",
    "            Length of the alkane chains (in number of carbons)\n",
    "        n_chains : int\n",
    "            Number of chains to place in the box\n",
    "        density : float\n",
    "            Density (in kg/m^3) at which the system should be created\n",
    "        \"\"\"\n",
    "        super(MixtureBox, self).__init__()\n",
    "        \n",
    "        # Create alkane chain prototype using the class above\n",
    "        chain = Alkane(chain_length=chain_length)\n",
    "        \n",
    "        h2o = H2O()\n",
    "        \n",
    "        # Generate a more relaxed structure\n",
    "        chain.energy_minimization()\n",
    "        \n",
    "        # Fill a box with chains at a user-defined density\n",
    "        mixture_box = mb.fill_box(compound=[chain, h2o], n_compounds=[n_chains, n_water],\n",
    "            density=(1000 * n_water + alkane_density * n_chains) / (n_water + n_chains))\n",
    "        \n",
    "        # Rename all chains to `Alkane`, this speeds up the atom-typing process\n",
    "        for child in mixture_box.children:\n",
    "            if child.n_particles > 3:\n",
    "                child.name = 'Alkane'\n",
    "            else:\n",
    "                child.name = 'Water'\n",
    "        self.add(mixture_box)"
   ]
  },
  {
   "cell_type": "code",
   "execution_count": 17,
   "metadata": {},
   "outputs": [
    {
     "name": "stderr",
     "output_type": "stream",
     "text": [
      "/Users/summeraz/mbuild/mbuild/compound.py:1281: UserWarning: Performing energy minimization using the Open Babel package. Please refer to the documentation to find the appropriate citations for Open Babel and the UFF force field\n",
      "  \"Open Babel and the {} force field\".format(forcefield))\n"
     ]
    }
   ],
   "source": [
    "mixture_box = MixtureBox(chain_length=6, n_chains=150, n_water=200, alkane_density=659)"
   ]
  },
  {
   "cell_type": "code",
   "execution_count": 18,
   "metadata": {},
   "outputs": [
    {
     "data": {
      "application/vnd.jupyter.widget-view+json": {
       "model_id": "38cbc392b32c47dd8e529542abcb4fc3",
       "version_major": 2,
       "version_minor": 0
      },
      "text/html": [
       "<p>Failed to display Jupyter Widget of type <code>NGLWidget</code>.</p>\n",
       "<p>\n",
       "  If you're reading this message in the Jupyter Notebook or JupyterLab Notebook, it may mean\n",
       "  that the widgets JavaScript is still loading. If this message persists, it\n",
       "  likely means that the widgets JavaScript library is either not installed or\n",
       "  not enabled. See the <a href=\"https://ipywidgets.readthedocs.io/en/stable/user_install.html\">Jupyter\n",
       "  Widgets Documentation</a> for setup instructions.\n",
       "</p>\n",
       "<p>\n",
       "  If you're reading this message in another frontend (for example, a static\n",
       "  rendering on GitHub or <a href=\"https://nbviewer.jupyter.org/\">NBViewer</a>),\n",
       "  it may mean that your frontend doesn't currently support widgets.\n",
       "</p>\n"
      ],
      "text/plain": [
       "NGLWidget()"
      ]
     },
     "metadata": {},
     "output_type": "display_data"
    }
   ],
   "source": [
    "mixture_box.visualize()"
   ]
  },
  {
   "cell_type": "code",
   "execution_count": null,
   "metadata": {},
   "outputs": [],
   "source": []
  }
 ],
 "metadata": {
  "kernelspec": {
   "display_name": "Python 3",
   "language": "python",
   "name": "python3"
  },
  "language_info": {
   "codemirror_mode": {
    "name": "ipython",
    "version": 3
   },
   "file_extension": ".py",
   "mimetype": "text/x-python",
   "name": "python",
   "nbconvert_exporter": "python",
   "pygments_lexer": "ipython3",
   "version": "3.5.5"
  }
 },
 "nbformat": 4,
 "nbformat_minor": 2
}
