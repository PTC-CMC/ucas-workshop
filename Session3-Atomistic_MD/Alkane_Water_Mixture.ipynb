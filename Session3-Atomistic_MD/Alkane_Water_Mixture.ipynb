{
 "cells": [
  {
   "cell_type": "markdown",
   "metadata": {},
   "source": [
    "## Atomistic Molecular Dynamics: Bulk Liquids - Mixtures\n",
    "\n",
    "For our final system in this session, we will consider a system that features a mixture of water and alkanes."
   ]
  },
  {
   "cell_type": "markdown",
   "metadata": {},
   "source": [
    "### Build the system\n",
    "\n",
    "Again, we will use mBuild to construct our system.\n",
    "\n",
    "First, we will import mBuild, as well as specify a filter for some warnings that can often clutter the output.\n",
    "\n",
    "We will also import classes for `Alkane` and `H2O` (these are the exact same class definitions as we created in the previous notebooks)."
   ]
  },
  {
   "cell_type": "code",
   "execution_count": null,
   "metadata": {},
   "outputs": [],
   "source": [
    "import mbuild as mb\n",
    "import warnings\n",
    "warnings.simplefilter(action='ignore', category=FutureWarning)\n",
    "\n",
    "from utils import Alkane, H2O"
   ]
  },
  {
   "cell_type": "markdown",
   "metadata": {},
   "source": [
    "Now we'll define a class for the mixture of water and alkanes. In standard mBuild style, we want to make sure any chemistry modifications we would like to make can be achieved by passing arguments upon class instantiation. For this class some of the chemical modifications we might want to make are:\n",
    "\n",
    "  - Chain length of the alkanes\n",
    "  - Number of chains to add to the box\n",
    "  - Number of water molecules to add to the box\n",
    "  - Density at which to pack the molecules"
   ]
  },
  {
   "cell_type": "code",
   "execution_count": null,
   "metadata": {},
   "outputs": [],
   "source": [
    "class MixtureBox(mb.Compound):\n",
    "    \"\"\"An box of linear alkane chains and water.\"\"\"\n",
    "    def __init__(self, chain_length, n_chains, n_water, density):\n",
    "        \"\"\"Initialize an AlkaneBox Compound.\n",
    "\n",
    "        Parameters\n",
    "        ----------\n",
    "        chain_length : int\n",
    "            Length of the alkane chains (in number of carbons)\n",
    "        n_chains : int\n",
    "            Number of chains to place in the box\n",
    "        n_water : int\n",
    "            Number of water molecules to place in the box\n",
    "        density : float\n",
    "            Density (in kg/m^3) at which the system should be created\n",
    "        \"\"\"\n",
    "        super(MixtureBox, self).__init__()\n",
    "        \n",
    "        # Create alkane chain prototype using the class we've imported\n",
    "        chain = Alkane(chain_length=chain_length)\n",
    "        \n",
    "        # Generate a more relaxed structure for the alkane\n",
    "        chain.energy_minimization()\n",
    "        \n",
    "        # Create water prototype using the class we've imported\n",
    "        h2o = H2O()\n",
    "        \n",
    "        # Fill a box with alkanes and water at a user-defined density\n",
    "        mixture_box = mb.fill_box(compound=[chain, h2o], n_compounds=[n_chains, n_water],\n",
    "                                  density=density)\n",
    "        \n",
    "        # Rename all chains to 'Alkane' and all the waters to 'Water'\n",
    "        # This speeds up the atom-typing process\n",
    "        for child in mixture_box.children:\n",
    "            if child.n_particles > 3:\n",
    "                child.name = 'Alkane'\n",
    "            else:\n",
    "                child.name = 'Water'\n",
    "        self.add(mixture_box)"
   ]
  },
  {
   "cell_type": "markdown",
   "metadata": {},
   "source": [
    "Let's create some systems. First we'll define the chain length for the alkane chains we want to create, along with the number of chains and number of water molecules we want to add to the box."
   ]
  },
  {
   "cell_type": "code",
   "execution_count": null,
   "metadata": {},
   "outputs": [],
   "source": [
    "chain_length = 6\n",
    "n_chains = 150\n",
    "n_water = 200"
   ]
  },
  {
   "cell_type": "markdown",
   "metadata": {},
   "source": [
    "While we will be performing NPT simulations (so the density will be changing), it is a good idea to start the system off at a reasonable density. For a simple estimation we will use:\n",
    "\n",
    "\\begin{align}\n",
    "\\rho_{mix} = x_{alkane} \\times \\rho_{alkane} + x_{water} \\times \\rho_{water}\n",
    "\\end{align}"
   ]
  },
  {
   "cell_type": "code",
   "execution_count": null,
   "metadata": {},
   "outputs": [],
   "source": [
    "mass_water = 18.01528 * n_water\n",
    "mass_alkane = (13.019 * (chain_length - 2) + 2 * 14.027) * n_chains\n",
    "total_mass = mass_water + mass_alkane\n",
    "\n",
    "alkane_densities = {5: 626, 6: 655, 7: 684, 8: 703, 9: 718, 10: 730}\n",
    "\n",
    "density = (mass_alkane / total_mass) * alkane_densities[chain_length] + \\\n",
    "          (mass_water / total_mass) * 1000"
   ]
  },
  {
   "cell_type": "markdown",
   "metadata": {},
   "source": [
    "Now let's actually create the mBuild `Compound` based on the parameters we've defined."
   ]
  },
  {
   "cell_type": "code",
   "execution_count": null,
   "metadata": {},
   "outputs": [],
   "source": [
    "mixture_box = MixtureBox(chain_length=chain_length, n_chains=n_chains, n_water=n_water,\n",
    "                         density=density)"
   ]
  },
  {
   "cell_type": "markdown",
   "metadata": {},
   "source": [
    "Now we'll visualize the `Compound` we've just created."
   ]
  },
  {
   "cell_type": "code",
   "execution_count": null,
   "metadata": {},
   "outputs": [],
   "source": [
    "mixture_box.visualize()"
   ]
  },
  {
   "cell_type": "markdown",
   "metadata": {},
   "source": [
    "Feel free to play around with the system parameters by re-running the four code blocks above."
   ]
  },
  {
   "cell_type": "markdown",
   "metadata": {},
   "source": [
    "Once you have a system that you like, we will again be saving to the two GROMACS files. First we'll write out our GRO file."
   ]
  },
  {
   "cell_type": "code",
   "execution_count": null,
   "metadata": {},
   "outputs": [],
   "source": [
    "mixture_box.save('mixture.gro', overwrite=True, residues=['Alkane', 'Water'])"
   ]
  },
  {
   "cell_type": "markdown",
   "metadata": {},
   "source": [
    "Now we'll write out our TOP file."
   ]
  },
  {
   "cell_type": "code",
   "execution_count": null,
   "metadata": {},
   "outputs": [],
   "source": [
    "mixture_box.save('mixture.top', forcefield_files='utils/spce-alkane.xml', overwrite=True,\n",
    "                 residues=['Alkane', 'Water'])"
   ]
  },
  {
   "cell_type": "markdown",
   "metadata": {},
   "source": [
    "Note that for the `forcefield_files` argument we used a file titled `spce-alkane.xml`. This is a file that has been created that combines the OPLS parameters for alkanes with the SPC/E parameters for water. Let's take a quick look at this:"
   ]
  },
  {
   "cell_type": "code",
   "execution_count": null,
   "metadata": {},
   "outputs": [],
   "source": [
    "!cat utils/spce-alkane.xml"
   ]
  },
  {
   "cell_type": "markdown",
   "metadata": {},
   "source": [
    "### Run the simulation"
   ]
  },
  {
   "cell_type": "markdown",
   "metadata": {},
   "source": [
    "We'll now perform our simulation, again in the NPT ensemble."
   ]
  },
  {
   "cell_type": "markdown",
   "metadata": {},
   "source": [
    "Execute the cell below to call `grompp` followed by `mdrun`."
   ]
  },
  {
   "cell_type": "code",
   "execution_count": null,
   "metadata": {},
   "outputs": [],
   "source": [
    "!gmx grompp -v -f utils/npt-mix.mdp -c mixture.gro -p mixture.top -o npt-mix\n",
    "!gmx mdrun -v -s npt-mix.tpr -o -x -deffnm npt-mix"
   ]
  },
  {
   "cell_type": "markdown",
   "metadata": {},
   "source": [
    "Now we'll view the trajectory with NGLview. Alternatively, you can pull the trajectory up in VMD if you would like more control over the representation.\n",
    "\n",
    "**NOTE:** If using VMD, input the following command from a terminal session (assuming you are in the same directory where the output files are located):\n",
    "`vmd mixture.mol2 npt-mix.xtc`"
   ]
  },
  {
   "cell_type": "code",
   "execution_count": null,
   "metadata": {},
   "outputs": [],
   "source": [
    "import nglview as nv\n",
    "import mdtraj as md\n",
    "\n",
    "mixture_box.save('mixture.mol2', overwrite=True)\n",
    "t = md.load(\"npt-eq-mix.xtc\", top=\"mixture.mol2\")\n",
    "nv.show_mdtraj(t)"
   ]
  },
  {
   "cell_type": "markdown",
   "metadata": {},
   "source": [
    "We'll again use `gmx energy` to extract some information on the system. Execute the two cells below to extract this information and plot it using `matplotlib`."
   ]
  },
  {
   "cell_type": "code",
   "execution_count": null,
   "metadata": {},
   "outputs": [],
   "source": [
    "!echo 11 12 13 18 19\\\\n0 | gmx energy -f npt-eq-mix.edr -o npt-eq-mix.xvg"
   ]
  },
  {
   "cell_type": "code",
   "execution_count": null,
   "metadata": {},
   "outputs": [],
   "source": [
    "%matplotlib inline\n",
    "import matplotlib.pyplot as plt\n",
    "import numpy as np\n",
    "\n",
    "data = np.loadtxt('npt-eq-mix.xvg', skiprows=27)\n",
    "\n",
    "# Strip out the very beginning of the run\n",
    "data = data[10:]\n",
    "\n",
    "fig, ax = plt.subplots(5, 1)\n",
    "\n",
    "properties = ['Total energy, kJ/mol', 'Temperature, K', 'Pressure, atm',\n",
    "              'Volume, nm^3', 'Density, kg/m^3']\n",
    "\n",
    "for i, sub_ax in enumerate(ax):\n",
    "    sub_ax.plot(data[:, 0], data[:, i + 1])\n",
    "    sub_ax.set_title(properties[i])\n",
    "    sub_ax.set_ylabel(properties[i])\n",
    "    \n",
    "fig.subplots_adjust(hspace=1.0)\n",
    "fig.set_size_inches(4, 12)\n",
    "plt.show()"
   ]
  },
  {
   "cell_type": "code",
   "execution_count": null,
   "metadata": {},
   "outputs": [],
   "source": []
  }
 ],
 "metadata": {
  "kernelspec": {
   "display_name": "Python 3",
   "language": "python",
   "name": "python3"
  },
  "language_info": {
   "codemirror_mode": {
    "name": "ipython",
    "version": 3
   },
   "file_extension": ".py",
   "mimetype": "text/x-python",
   "name": "python",
   "nbconvert_exporter": "python",
   "pygments_lexer": "ipython3",
   "version": "3.5.5"
  }
 },
 "nbformat": 4,
 "nbformat_minor": 2
}
